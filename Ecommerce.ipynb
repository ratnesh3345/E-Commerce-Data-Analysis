{
 "cells": [
  {
   "cell_type": "code",
   "execution_count": 627,
   "id": "a1373108-252d-4caf-a508-e5843cb3cd59",
   "metadata": {},
   "outputs": [],
   "source": [
    "from bs4 import BeautifulSoup\n",
    "from selenium import webdriver\n",
    "from selenium.webdriver.common.by import By\n",
    "from selenium.webdriver.common.keys import Keys\n",
    "import pandas as pd\n",
    "import matplotlib.pyplot as plt\n",
    "import seaborn as sns\n",
    "import time"
   ]
  },
  {
   "cell_type": "code",
   "execution_count": 525,
   "id": "cf56e294-ed3d-410a-8141-e533e96ea13f",
   "metadata": {},
   "outputs": [],
   "source": [
    "chrome_option = webdriver.ChromeOptions()\n",
    "chrome_option.add_experimental_option(\"detach\", True)\n",
    "chrome_option.add_argument(\"Accept-Language= en-US,en;q=0.8\")"
   ]
  },
  {
   "cell_type": "code",
   "execution_count": 527,
   "id": "906dd6c2-70dc-4bb4-98a2-a87a4abb1b89",
   "metadata": {},
   "outputs": [],
   "source": [
    "structured_content = []"
   ]
  },
  {
   "cell_type": "code",
   "execution_count": 545,
   "id": "15f61c25-d879-4bb3-b93e-aa16bed75ff4",
   "metadata": {},
   "outputs": [],
   "source": [
    "url = \"https://www.amazon.in/\"\n",
    "driver = webdriver.Chrome()\n",
    "driver.get(url=url)\n",
    "time.sleep(2)"
   ]
  },
  {
   "cell_type": "code",
   "execution_count": 547,
   "id": "32c3cf5a-8c24-4780-aabe-a7c1b0205fd9",
   "metadata": {
    "scrolled": true
   },
   "outputs": [],
   "source": [
    "search_bar = driver.find_element(By.NAME, \"field-keywords\")\n",
    "search_bar.send_keys(\"mobile phones\", Keys.ENTER)\n",
    "time.sleep(3)"
   ]
  },
  {
   "cell_type": "code",
   "execution_count": 549,
   "id": "1c58167e-5e45-40ef-a5bf-0855fe8f3b1a",
   "metadata": {},
   "outputs": [],
   "source": [
    "product_details = []\n",
    "def elements():\n",
    "    products_result = driver.find_elements(By.CSS_SELECTOR, '[data-component-type=\"s-search-result\"]')\n",
    "    for index , product in enumerate(products_result):\n",
    "        try:\n",
    "            # Extract product title\n",
    "            p_name = product.find_element(By.CSS_SELECTOR, \".a-section div h2 a span\").text  # Adjust the selector\n",
    "        except:\n",
    "            p_name = 'N/A'\n",
    "\n",
    "        try:\n",
    "            # Extract product price\n",
    "            p_price = product.find_element(By.CSS_SELECTOR, \".a-price-whole\").text  # Adjust the selector\n",
    "        except:\n",
    "            p_price = 'N/A'\n",
    "\n",
    "        try:\n",
    "            # Extract product review count\n",
    "            p_review_count = product.find_element(By.CSS_SELECTOR, '[data-cy=\"reviews-block\"] .a-size-base').text  # Adjust the selector\n",
    "        except:\n",
    "            p_review_count = 'N/A'\n",
    "\n",
    "        try:\n",
    "            # Extract product bought last month\n",
    "            p_bought_last_month = product.find_element(By.CSS_SELECTOR, '[data-cy=\"reviews-block\"] .a-color-secondary').text  # Adjust the selector\n",
    "        except:\n",
    "            p_bought_last_month = 'N/A'\n",
    "\n",
    "        try:\n",
    "            # Extract product rating\n",
    "            soup = BeautifulSoup(driver.page_source, 'html.parser')\n",
    "            p_rating = soup.select('[data-cy=\"reviews-ratings-slot\"] .a-icon-alt')[index].getText()  # Adjust the selector\n",
    "        except:\n",
    "            p_rating = 'N/A'\n",
    "\n",
    "        # Append the details to the list\n",
    "        product_details.append([p_name, p_price, p_review_count, p_bought_last_month, p_rating])\n",
    "\n",
    "    return product_details\n",
    "        \n",
    "\n",
    "\n",
    "    "
   ]
  },
  {
   "cell_type": "code",
   "execution_count": 551,
   "id": "7750adbf-8fed-461c-bd03-ce92439de795",
   "metadata": {},
   "outputs": [
    {
     "name": "stdout",
     "output_type": "stream",
     "text": [
      "220\n",
      "[['Apple iPhone 13 (128GB) - Midnight', '51,999', '28,939', '500+ bought in past month', '4.5 out of 5 stars'], ['Apple iPhone 15 (128 GB) - Green', '69,999', '2,142', '200+ bought in past month', '4.5 out of 5 stars'], ['Redmi 13C (Stardust Black, 4GB RAM, 128GB Storage) | Powered by 4G Mediatek Helio G85 | 90Hz Display | 50MP AI Triple Camera', '7,698', '7,187', '5K+ bought in past month', '4.1 out of 5 stars'], [\"realme NARZO N65 5G (Deep Green 6GB RAM, 128GB Storage) India's 1st D6300 5G Chipset | Ultra Slim Design | 120Hz Eye Comfort Display | 50MP AI Camera| Charger in The Box\", '12,498', '676', '5K+ bought in past month', '4.1 out of 5 stars'], ['POCO C65 (Pastel Blue 4GB RAM 128GB Storage)', '6,998', '2,050', '5K+ bought in past month', '4.0 out of 5 stars'], ['Samsung Galaxy M35 5G (Thunder Grey,6GB RAM,128GB Storage)| Corning Gorilla Glass Victus+| AnTuTu Score 595K+ | Vapour Cooling Chamber | 6000mAh Battery | 120Hz Super AMOLED Display| Without Charger', '19,998', '1,289', '3K+ bought in past month', '3.8 out of 5 stars'], ['Redmi 13 5G, Orchid Pink, 8GB+128GB | India Debut SD 4 Gen 2 AE | 108MP Pro Grade Camera | 6.79in Largest Display in Segment', '15,498', '906', '500+ bought in past month', '4.2 out of 5 stars'], ['Samsung Galaxy M14 4G (Sapphire Blue,4GB,64GB) | 50MP Triple Cam | 5000mAh Battery | Snapdragon 680 Processor | 2 Gen. OS Upgrade & 4 Year Security Update | 8GB RAM with RAM Plus | Without Charger', '8,348', '234', '3K+ bought in past month', '3.8 out of 5 stars'], ['Redmi 13C 5G (Starlight Black, 4GB RAM, 128GB Storage) | MediaTek Dimensity 6100+ 5G | 90Hz Display', '10,498', '7,236', '5K+ bought in past month', '3.9 out of 5 stars'], ['Redmi 13C (Starfrost White, 4GB RAM, 128GB Storage) | Powered by 4G MediaTek Helio G85 | 90Hz Display | 50MP AI Triple Camera', '7,698', '7,187', '5K+ bought in past month', '4.0 out of 5 stars'], ['Apple iPhone 15 Plus (128 GB) - Black', '79,999', '978', '200+ bought in past month', '4.1 out of 5 stars'], ['Apple iPhone 14 Plus (128 GB) - Midnight', '64,999', '1,993', '100+ bought in past month', '4.6 out of 5 stars'], ['OnePlus Nord CE4 Lite 5G (Super Silver, 8GB RAM, 128GB Storage)', '19,998', '1,400', '5K+ bought in past month', '4.5 out of 5 stars'], ['Redmi 13C (Starshine Green, 4GB RAM, 128GB Storage) | Powered by 4G MediaTek Helio G85 | 90Hz Display | 50MP AI Triple Camera', '7,698', '7,187', '5K+ bought in past month', '4.1 out of 5 stars'], ['Redmi 12 5G Jade Black 8GB RAM 256GB ROM', '13,998', '23,206', '5K+ bought in past month', '4.1 out of 5 stars'], [\"realme NARZO N65 5G (Deep Green 4GB RAM, 128GB Storage) India's 1st D6300 5G Chipset | Ultra Slim 190g Design | 120Hz Eye Comfort Display | 50MP AI Camera| Charger in The Box\", '11,498', '676', '1K+ bought in past month', '4.0 out of 5 stars'], ['realme NARZO N61 (Voyage Blue,6GB RAM+128GB Storage) 90Hz Eye Comfort Display | IP54 Dust & Water Resistance | 48-Month Fluency | Charger in The Box', '8,498', '103', '3K+ bought in past month', '4.1 out of 5 stars'], ['Nokia G42 5G | Snapdragon® 480+ 5G | 50MP Triple AI Camera | 11GB RAM (6GB RAM + 5GB Virtual RAM) | 128GB Storage | 5000mAh Battery | 2 Years Android Upgrades | 20W Charger Included | So Grey', '11,499', '4,908', '3K+ bought in past month', '3.8 out of 5 stars'], ['Redmi 13C (Starfrost White, 6GB RAM, 128GB Storage) | Powered by 4G MediaTek Helio G85 | 90Hz Display | 50MP AI Triple Camera', '8,498', '7,187', '4K+ bought in past month', '3.9 out of 5 stars'], ['OnePlus Nord CE 3 Lite 5G (Chromatic Gray, 8GB RAM, 256GB Storage)', '18,286', '49,759', '4K+ bought in past month', '4.1 out of 5 stars'], ['Apple iPhone 15 Pro Max (1 TB) - Natural Titanium', '1,89,400', '336', 'N/A', '4.2 out of 5 stars'], ['Apple iPhone 15 Pro (1 TB) - Black Titanium', '1,75,300', '323', 'N/A', '4.4 out of 5 stars'], ['Apple iPhone 15 (128 GB) - Black', '69,999', '2,142', '500+ bought in past month', '4.5 out of 5 stars'], ['Apple iPhone 15 Plus (128 GB) - Blue', '79,999', '978', '100+ bought in past month', '4.6 out of 5 stars'], ['OnePlus 12R (Iron Gray, 16GB RAM, 256GB Storage)', '45,998', '3,050', '1K+ bought in past month', '4.4 out of 5 stars'], ['Samsung Galaxy M35 5G (Moonlight Blue,8GB RAM,256GB Storage)| Corning Gorilla Glass Victus+| AnTuTu Score 595K+ | Vapour Cooling Chamber | 6000mAh Battery | 120Hz Super AMOLED Display| Without Charger', '24,498', '1,289', '1K+ bought in past month', '4.2 out of 5 stars'], ['Redmi 13C 5G (Startrail Silver, 8GB RAM, 256GB Storage) | MediaTek Dimensity 6100+ 5G | 90Hz Display', '13,998', '7,236', '1K+ bought in past month', '4.0 out of 5 stars'], ['realme NARZO 70 Pro 5G (Glass Green, 8GB RAM,256GB Storage) Dimensity 7050 5G Chipset | Horizon Glass Design | Segment 1st Flagship Sony IMX890 OIS Camera', '18,998', '3,879', '5K+ bought in past month', '4.1 out of 5 stars'], ['Samsung Galaxy S21 FE 5G (Lavender, 8GB RAM, 256GB Storage) with Snapdragon 888 Processor', '27,999', '1,211', '1K+ bought in past month', '3.8 out of 5 stars'], ['OnePlus 12R (Iron Gray, 8GB RAM, 128GB Storage)', '39,998', '3,050', '500+ bought in past month', '4.4 out of 5 stars'], ['OnePlus Nord CE 3 Lite 5G (Chromatic Gray, 8GB RAM, 128GB Storage)', '16,803', '49,759', '5K+ bought in past month', '4.2 out of 5 stars'], ['OnePlus Nord 4 5G (Obsidian Midnight, 12GB RAM, 256GB Storage)', '35,998', '425', '2K+ bought in past month', '4.1 out of 5 stars'], ['Apple iPhone 15 Pro Max (256 GB) - Natural Titanium', '1,40,999', '336', '100+ bought in past month', '4.4 out of 5 stars'], ['Apple iPhone 14 Pro (256 GB) - Space Black', '1,39,900', '864', 'N/A', '4.6 out of 5 stars'], ['OnePlus Nord CE 2 Lite 5G (Blue Tide, 6GB RAM, 128GB Storage)', '16,988', '52,302', '100+ bought in past month', '4.2 out of 5 stars'], [\"realme NARZO N65 5G (Amber Gold 6GB RAM, 128GB Storage) India's 1st D6300 5G Chipset | Ultra Slim Design | 120Hz Eye Comfort Display | 50MP AI Camera| Charger in The Box\", '12,498', '676', '5K+ bought in past month', '4.1 out of 5 stars'], ['Redmi 13C 5G (Startrail Silver, 4GB RAM, 128GB Storage) | MediaTek Dimensity 6100+ 5G | 90Hz Display', '10,498', '7,236', '5K+ bought in past month', '4.0 out of 5 stars'], ['realme NARZO N61 (Marble Black, 4GB RAM+64GB Storage) 90Hz Eye Comfort Display | IP54 Dust & Water Resistance | 48-Month Fluency | Charger in The Box', '7,498', '103', '3K+ bought in past month', '3.8 out of 5 stars'], ['Redmi Note 13 5G (Arctic White, 12GB RAM, 256GB Storage) | 5G Ready | 120Hz Bezel-Less AMOLED | 7.mm Slimmest Note Ever | 108MP Pro-Grade Camera', '19,998', '4,780', '500+ bought in past month', '3.7 out of 5 stars'], ['Redmi 13C 5G (Startrail Green, 4GB RAM, 128GB Storage) | MediaTek Dimensity 6100+ 5G | 90Hz Display', '10,498', '7,236', '5K+ bought in past month', '4.0 out of 5 stars'], ['OnePlus Nord CE 3 Lite 5G (Pastel Lime, 8GB RAM, 128GB Storage)', '16,845', '49,759', '1K+ bought in past month', '4.2 out of 5 stars'], ['POCO C65 (Pastel Green 4GB RAM 128GB Storage)', '6,998', '2,050', '3K+ bought in past month', '4.0 out of 5 stars'], ['Apple iPhone 14 Plus (128 GB) - Starlight', '64,999', '1,993', '200+ bought in past month', '4.5 out of 5 stars'], ['Apple iPhone 15 Pro (512 GB) - Black Titanium', '1,56,400', '323', 'N/A', '4.3 out of 5 stars'], ['Apple iPhone 13 (128GB) - Midnight', '51,999', '28,939', '500+ bought in past month', '4.5 out of 5 stars'], ['Apple iPhone 15 (128 GB) - Pink', '70,499', '2,142', '200+ bought in past month', '4.5 out of 5 stars'], ['Redmi 13C (Stardust Black, 4GB RAM, 128GB Storage) | Powered by 4G Mediatek Helio G85 | 90Hz Display | 50MP AI Triple Camera', '7,698', '7,187', '5K+ bought in past month', '4.1 out of 5 stars'], [\"realme NARZO N65 5G (Deep Green 6GB RAM, 128GB Storage) India's 1st D6300 5G Chipset | Ultra Slim Design | 120Hz Eye Comfort Display | 50MP AI Camera| Charger in The Box\", '12,498', '676', '5K+ bought in past month', '4.1 out of 5 stars'], ['POCO C65 (Pastel Blue 4GB RAM 128GB Storage)', '6,998', '2,050', '5K+ bought in past month', '4.0 out of 5 stars'], ['Samsung Galaxy M35 5G (Thunder Grey,6GB RAM,128GB Storage)| Corning Gorilla Glass Victus+| AnTuTu Score 595K+ | Vapour Cooling Chamber | 6000mAh Battery | 120Hz Super AMOLED Display| Without Charger', '19,998', '1,289', '3K+ bought in past month', '3.8 out of 5 stars'], ['Redmi 13 5G, Orchid Pink, 8GB+128GB | India Debut SD 4 Gen 2 AE | 108MP Pro Grade Camera | 6.79in Largest Display in Segment', '15,498', '906', '500+ bought in past month', '4.2 out of 5 stars'], ['Samsung Galaxy M14 4G (Sapphire Blue,4GB,64GB) | 50MP Triple Cam | 5000mAh Battery | Snapdragon 680 Processor | 2 Gen. OS Upgrade & 4 Year Security Update | 8GB RAM with RAM Plus | Without Charger', '8,348', '234', '3K+ bought in past month', '3.8 out of 5 stars'], ['Redmi 13C 5G (Starlight Black, 4GB RAM, 128GB Storage) | MediaTek Dimensity 6100+ 5G | 90Hz Display', '10,498', '7,236', '5K+ bought in past month', '3.9 out of 5 stars'], ['Redmi 13C (Starfrost White, 4GB RAM, 128GB Storage) | Powered by 4G MediaTek Helio G85 | 90Hz Display | 50MP AI Triple Camera', '7,698', '7,187', '5K+ bought in past month', '4.0 out of 5 stars'], ['Apple iPhone 15 Plus (128 GB) - Black', '79,999', '978', '200+ bought in past month', '4.1 out of 5 stars'], ['Apple iPhone 14 Plus (128 GB) - Midnight', '64,999', '1,993', '100+ bought in past month', '4.6 out of 5 stars'], ['OnePlus Nord CE4 Lite 5G (Super Silver, 8GB RAM, 128GB Storage)', '19,998', '1,400', '5K+ bought in past month', '4.5 out of 5 stars'], ['Redmi 13C (Starshine Green, 4GB RAM, 128GB Storage) | Powered by 4G MediaTek Helio G85 | 90Hz Display | 50MP AI Triple Camera', '7,698', '7,187', '5K+ bought in past month', '4.1 out of 5 stars'], ['Redmi 12 5G Jade Black 8GB RAM 256GB ROM', '13,998', '23,206', '5K+ bought in past month', '4.1 out of 5 stars'], [\"realme NARZO N65 5G (Deep Green 4GB RAM, 128GB Storage) India's 1st D6300 5G Chipset | Ultra Slim 190g Design | 120Hz Eye Comfort Display | 50MP AI Camera| Charger in The Box\", '11,498', '676', '1K+ bought in past month', '4.0 out of 5 stars'], ['realme NARZO N61 (Voyage Blue,6GB RAM+128GB Storage) 90Hz Eye Comfort Display | IP54 Dust & Water Resistance | 48-Month Fluency | Charger in The Box', '8,498', '103', '3K+ bought in past month', '4.1 out of 5 stars'], ['Nokia G42 5G | Snapdragon® 480+ 5G | 50MP Triple AI Camera | 11GB RAM (6GB RAM + 5GB Virtual RAM) | 128GB Storage | 5000mAh Battery | 2 Years Android Upgrades | 20W Charger Included | So Grey', '11,499', '4,908', '3K+ bought in past month', '3.8 out of 5 stars'], ['Redmi 13C (Starfrost White, 6GB RAM, 128GB Storage) | Powered by 4G MediaTek Helio G85 | 90Hz Display | 50MP AI Triple Camera', '8,498', '7,187', '4K+ bought in past month', '3.9 out of 5 stars'], ['OnePlus Nord CE 3 Lite 5G (Chromatic Gray, 8GB RAM, 256GB Storage)', '18,286', '49,759', '4K+ bought in past month', '4.1 out of 5 stars'], ['Apple iPhone 15 Pro Max (1 TB) - Natural Titanium', '1,89,400', '336', 'N/A', '4.2 out of 5 stars'], ['Apple iPhone 15 Pro (1 TB) - Black Titanium', '1,75,300', '323', 'N/A', '4.4 out of 5 stars'], ['Apple iPhone 15 (128 GB) - Black', '69,999', '2,142', '500+ bought in past month', '4.5 out of 5 stars'], ['Apple iPhone 15 Plus (128 GB) - Blue', '79,999', '978', '100+ bought in past month', '4.6 out of 5 stars'], ['OnePlus 12R (Iron Gray, 16GB RAM, 256GB Storage)', '45,998', '3,050', '1K+ bought in past month', '4.4 out of 5 stars'], ['Samsung Galaxy M35 5G (Moonlight Blue,8GB RAM,256GB Storage)| Corning Gorilla Glass Victus+| AnTuTu Score 595K+ | Vapour Cooling Chamber | 6000mAh Battery | 120Hz Super AMOLED Display| Without Charger', '24,498', '1,289', '1K+ bought in past month', '4.2 out of 5 stars'], ['Redmi 13C 5G (Startrail Silver, 8GB RAM, 256GB Storage) | MediaTek Dimensity 6100+ 5G | 90Hz Display', '13,998', '7,236', '1K+ bought in past month', '4.0 out of 5 stars'], ['realme NARZO 70 Pro 5G (Glass Green, 8GB RAM,256GB Storage) Dimensity 7050 5G Chipset | Horizon Glass Design | Segment 1st Flagship Sony IMX890 OIS Camera', '18,998', '3,879', '5K+ bought in past month', '4.1 out of 5 stars'], ['Samsung Galaxy S21 FE 5G (Lavender, 8GB RAM, 256GB Storage) with Snapdragon 888 Processor', '27,999', '1,211', '1K+ bought in past month', '3.8 out of 5 stars'], ['OnePlus 12R (Iron Gray, 8GB RAM, 128GB Storage)', '39,998', '3,050', '500+ bought in past month', '4.4 out of 5 stars'], ['OnePlus Nord CE 3 Lite 5G (Chromatic Gray, 8GB RAM, 128GB Storage)', '16,803', '49,759', '5K+ bought in past month', '4.2 out of 5 stars'], ['OnePlus Nord 4 5G (Obsidian Midnight, 12GB RAM, 256GB Storage)', '35,998', '425', '2K+ bought in past month', '4.1 out of 5 stars'], ['Apple iPhone 14 Pro (256 GB) - Space Black', '1,39,900', '864', 'N/A', '4.6 out of 5 stars'], ['Apple iPhone 15 Pro Max (256 GB) - Natural Titanium', '1,40,999', '336', '100+ bought in past month', '4.4 out of 5 stars'], ['OnePlus Nord CE 2 Lite 5G (Blue Tide, 6GB RAM, 128GB Storage)', '16,988', '52,302', '100+ bought in past month', '4.2 out of 5 stars'], [\"realme NARZO N65 5G (Amber Gold 6GB RAM, 128GB Storage) India's 1st D6300 5G Chipset | Ultra Slim Design | 120Hz Eye Comfort Display | 50MP AI Camera| Charger in The Box\", '12,498', '676', '5K+ bought in past month', '4.1 out of 5 stars'], ['Redmi 13C 5G (Startrail Silver, 4GB RAM, 128GB Storage) | MediaTek Dimensity 6100+ 5G | 90Hz Display', '10,498', '7,236', '5K+ bought in past month', '4.0 out of 5 stars'], ['realme NARZO N61 (Marble Black, 4GB RAM+64GB Storage) 90Hz Eye Comfort Display | IP54 Dust & Water Resistance | 48-Month Fluency | Charger in The Box', '7,498', '103', '3K+ bought in past month', '3.8 out of 5 stars'], ['Redmi Note 13 5G (Arctic White, 12GB RAM, 256GB Storage) | 5G Ready | 120Hz Bezel-Less AMOLED | 7.mm Slimmest Note Ever | 108MP Pro-Grade Camera', '19,998', '4,780', '500+ bought in past month', '3.7 out of 5 stars'], ['Redmi 13C 5G (Startrail Green, 4GB RAM, 128GB Storage) | MediaTek Dimensity 6100+ 5G | 90Hz Display', '10,498', '7,236', '5K+ bought in past month', '4.0 out of 5 stars'], ['OnePlus Nord CE 3 Lite 5G (Pastel Lime, 8GB RAM, 128GB Storage)', '16,845', '49,759', '1K+ bought in past month', '4.2 out of 5 stars'], ['POCO C65 (Pastel Green 4GB RAM 128GB Storage)', '6,998', '2,050', '3K+ bought in past month', '4.0 out of 5 stars'], ['Apple iPhone 14 Plus (128 GB) - Starlight', '64,999', '1,993', '200+ bought in past month', '4.5 out of 5 stars'], ['Apple iPhone 15 Pro (512 GB) - Black Titanium', '1,56,400', '323', 'N/A', '4.3 out of 5 stars'], ['Apple iPhone 13 (128GB) - Midnight', '51,999', '28,939', '500+ bought in past month', '4.5 out of 5 stars'], ['Apple iPhone 15 (128 GB) - Pink', '70,499', '2,142', '200+ bought in past month', '4.5 out of 5 stars'], ['Redmi 13C (Stardust Black, 4GB RAM, 128GB Storage) | Powered by 4G Mediatek Helio G85 | 90Hz Display | 50MP AI Triple Camera', '7,698', '7,187', '5K+ bought in past month', '4.1 out of 5 stars'], [\"realme NARZO N65 5G (Deep Green 6GB RAM, 128GB Storage) India's 1st D6300 5G Chipset | Ultra Slim Design | 120Hz Eye Comfort Display | 50MP AI Camera| Charger in The Box\", '12,498', '676', '5K+ bought in past month', '4.1 out of 5 stars'], ['POCO C65 (Pastel Blue 4GB RAM 128GB Storage)', '6,998', '2,050', '5K+ bought in past month', '4.0 out of 5 stars'], ['Samsung Galaxy M35 5G (Thunder Grey,6GB RAM,128GB Storage)| Corning Gorilla Glass Victus+| AnTuTu Score 595K+ | Vapour Cooling Chamber | 6000mAh Battery | 120Hz Super AMOLED Display| Without Charger', '19,998', '1,289', '3K+ bought in past month', '3.8 out of 5 stars'], ['Redmi 13 5G, Orchid Pink, 8GB+128GB | India Debut SD 4 Gen 2 AE | 108MP Pro Grade Camera | 6.79in Largest Display in Segment', '15,498', '906', '500+ bought in past month', '4.2 out of 5 stars'], ['Samsung Galaxy M14 4G (Sapphire Blue,4GB,64GB) | 50MP Triple Cam | 5000mAh Battery | Snapdragon 680 Processor | 2 Gen. OS Upgrade & 4 Year Security Update | 8GB RAM with RAM Plus | Without Charger', '8,348', '234', '3K+ bought in past month', '3.8 out of 5 stars'], ['Redmi 13C 5G (Starlight Black, 4GB RAM, 128GB Storage) | MediaTek Dimensity 6100+ 5G | 90Hz Display', '10,498', '7,236', '5K+ bought in past month', '3.9 out of 5 stars'], ['Redmi 13C (Starfrost White, 4GB RAM, 128GB Storage) | Powered by 4G MediaTek Helio G85 | 90Hz Display | 50MP AI Triple Camera', '7,698', '7,187', '5K+ bought in past month', '4.0 out of 5 stars'], ['Apple iPhone 15 Plus (128 GB) - Black', '79,999', '978', '200+ bought in past month', '4.1 out of 5 stars'], ['Apple iPhone 15 Pro Max (1 TB) - Natural Titanium', '1,89,400', '336', 'N/A', '4.6 out of 5 stars'], ['OnePlus Nord CE4 Lite 5G (Super Silver, 8GB RAM, 128GB Storage)', '19,998', '1,400', '5K+ bought in past month', '4.4 out of 5 stars'], ['Redmi 13C (Starshine Green, 4GB RAM, 128GB Storage) | Powered by 4G MediaTek Helio G85 | 90Hz Display | 50MP AI Triple Camera', '7,698', '7,187', '5K+ bought in past month', '4.1 out of 5 stars'], ['Redmi 12 5G Jade Black 8GB RAM 256GB ROM', '13,998', '23,206', '5K+ bought in past month', '4.1 out of 5 stars'], [\"realme NARZO N65 5G (Deep Green 4GB RAM, 128GB Storage) India's 1st D6300 5G Chipset | Ultra Slim 190g Design | 120Hz Eye Comfort Display | 50MP AI Camera| Charger in The Box\", '11,498', '676', '1K+ bought in past month', '4.0 out of 5 stars'], ['realme NARZO N61 (Voyage Blue,6GB RAM+128GB Storage) 90Hz Eye Comfort Display | IP54 Dust & Water Resistance | 48-Month Fluency | Charger in The Box', '8,498', '103', '3K+ bought in past month', '4.1 out of 5 stars'], ['Nokia G42 5G | Snapdragon® 480+ 5G | 50MP Triple AI Camera | 11GB RAM (6GB RAM + 5GB Virtual RAM) | 128GB Storage | 5000mAh Battery | 2 Years Android Upgrades | 20W Charger Included | So Grey', '11,499', '4,908', '3K+ bought in past month', '3.8 out of 5 stars'], ['Redmi 13C (Starfrost White, 6GB RAM, 128GB Storage) | Powered by 4G MediaTek Helio G85 | 90Hz Display | 50MP AI Triple Camera', '8,498', '7,187', '4K+ bought in past month', '3.9 out of 5 stars'], ['OnePlus Nord CE 3 Lite 5G (Chromatic Gray, 8GB RAM, 256GB Storage)', '18,286', '49,759', '4K+ bought in past month', '4.1 out of 5 stars'], ['Apple iPhone 15 Pro (1 TB) - Black Titanium', '1,75,300', '323', 'N/A', '4.2 out of 5 stars'], ['Apple iPhone 14 Plus (128 GB) - Midnight', '64,999', '1,993', '100+ bought in past month', '4.3 out of 5 stars'], ['Apple iPhone 15 (128 GB) - Black', '69,999', '2,142', '500+ bought in past month', '4.5 out of 5 stars'], ['Apple iPhone 15 Plus (256 GB) - Yellow', '90,600', '978', 'N/A', '4.6 out of 5 stars'], ['OnePlus 12R (Iron Gray, 16GB RAM, 256GB Storage)', '45,998', '3,050', '1K+ bought in past month', '4.4 out of 5 stars'], ['Samsung Galaxy M35 5G (Moonlight Blue,8GB RAM,256GB Storage)| Corning Gorilla Glass Victus+| AnTuTu Score 595K+ | Vapour Cooling Chamber | 6000mAh Battery | 120Hz Super AMOLED Display| Without Charger', '24,498', '1,289', '1K+ bought in past month', '4.2 out of 5 stars'], ['Redmi 13C 5G (Startrail Silver, 8GB RAM, 256GB Storage) | MediaTek Dimensity 6100+ 5G | 90Hz Display', '13,998', '7,236', '1K+ bought in past month', '4.0 out of 5 stars'], ['realme NARZO 70 Pro 5G (Glass Green, 8GB RAM,256GB Storage) Dimensity 7050 5G Chipset | Horizon Glass Design | Segment 1st Flagship Sony IMX890 OIS Camera', '18,998', '3,879', '5K+ bought in past month', '4.1 out of 5 stars'], ['Samsung Galaxy S21 FE 5G (Lavender, 8GB RAM, 256GB Storage) with Snapdragon 888 Processor', '27,999', '1,211', '1K+ bought in past month', '3.8 out of 5 stars'], ['OnePlus 12R (Iron Gray, 8GB RAM, 128GB Storage)', '39,998', '3,050', '500+ bought in past month', '4.4 out of 5 stars'], ['OnePlus Nord CE 3 Lite 5G (Chromatic Gray, 8GB RAM, 128GB Storage)', '16,803', '49,759', '5K+ bought in past month', '4.2 out of 5 stars'], ['OnePlus Nord 4 5G (Obsidian Midnight, 12GB RAM, 256GB Storage)', '35,998', '425', '2K+ bought in past month', '4.1 out of 5 stars'], ['Apple iPhone 15 Pro Max (256 GB) - Natural Titanium', '1,40,999', '336', '100+ bought in past month', '4.4 out of 5 stars'], ['Apple iPhone 14 Plus (128 GB) - Starlight', '64,999', '1,993', '200+ bought in past month', '4.5 out of 5 stars'], ['OnePlus Nord CE 2 Lite 5G (Blue Tide, 6GB RAM, 128GB Storage)', '16,988', '52,302', '100+ bought in past month', '4.2 out of 5 stars'], [\"realme NARZO N65 5G (Amber Gold 6GB RAM, 128GB Storage) India's 1st D6300 5G Chipset | Ultra Slim Design | 120Hz Eye Comfort Display | 50MP AI Camera| Charger in The Box\", '12,498', '676', '5K+ bought in past month', '4.1 out of 5 stars'], ['Redmi 13C 5G (Startrail Silver, 4GB RAM, 128GB Storage) | MediaTek Dimensity 6100+ 5G | 90Hz Display', '10,498', '7,236', '5K+ bought in past month', '4.0 out of 5 stars'], ['realme NARZO N61 (Marble Black, 4GB RAM+64GB Storage) 90Hz Eye Comfort Display | IP54 Dust & Water Resistance | 48-Month Fluency | Charger in The Box', '7,498', '103', '3K+ bought in past month', '3.8 out of 5 stars'], ['Redmi Note 13 5G (Arctic White, 12GB RAM, 256GB Storage) | 5G Ready | 120Hz Bezel-Less AMOLED | 7.mm Slimmest Note Ever | 108MP Pro-Grade Camera', '19,998', '4,780', '500+ bought in past month', '3.7 out of 5 stars'], ['Redmi 13C 5G (Startrail Green, 4GB RAM, 128GB Storage) | MediaTek Dimensity 6100+ 5G | 90Hz Display', '10,498', '7,236', '5K+ bought in past month', '4.0 out of 5 stars'], ['OnePlus Nord CE 3 Lite 5G (Pastel Lime, 8GB RAM, 128GB Storage)', '16,845', '49,759', '1K+ bought in past month', '4.2 out of 5 stars'], ['POCO C65 (Pastel Green 4GB RAM 128GB Storage)', '6,998', '2,050', '3K+ bought in past month', '4.0 out of 5 stars'], ['Apple iPhone 14 Pro (256 GB) - Space Black', '1,39,900', '864', 'N/A', '4.6 out of 5 stars'], ['Apple iPhone 15 Pro (512 GB) - Black Titanium', '1,56,400', '323', 'N/A', '4.3 out of 5 stars'], ['Apple iPhone 13 (128GB) - Midnight', '51,999', '28,939', '500+ bought in past month', '4.5 out of 5 stars'], ['Apple iPhone 15 (128 GB) - Pink', '70,499', '2,142', '200+ bought in past month', '4.5 out of 5 stars'], ['Redmi 13C (Stardust Black, 4GB RAM, 128GB Storage) | Powered by 4G Mediatek Helio G85 | 90Hz Display | 50MP AI Triple Camera', '7,698', '7,187', '5K+ bought in past month', '4.1 out of 5 stars'], [\"realme NARZO N65 5G (Deep Green 6GB RAM, 128GB Storage) India's 1st D6300 5G Chipset | Ultra Slim Design | 120Hz Eye Comfort Display | 50MP AI Camera| Charger in The Box\", '12,498', '676', '5K+ bought in past month', '4.1 out of 5 stars'], ['POCO C65 (Pastel Blue 4GB RAM 128GB Storage)', '6,998', '2,050', '5K+ bought in past month', '4.0 out of 5 stars'], ['Samsung Galaxy M35 5G (Thunder Grey,6GB RAM,128GB Storage)| Corning Gorilla Glass Victus+| AnTuTu Score 595K+ | Vapour Cooling Chamber | 6000mAh Battery | 120Hz Super AMOLED Display| Without Charger', '19,998', '1,289', '3K+ bought in past month', '3.8 out of 5 stars'], ['Redmi 13 5G, Orchid Pink, 8GB+128GB | India Debut SD 4 Gen 2 AE | 108MP Pro Grade Camera | 6.79in Largest Display in Segment', '15,498', '906', '500+ bought in past month', '4.2 out of 5 stars'], ['Samsung Galaxy M14 4G (Sapphire Blue,4GB,64GB) | 50MP Triple Cam | 5000mAh Battery | Snapdragon 680 Processor | 2 Gen. OS Upgrade & 4 Year Security Update | 8GB RAM with RAM Plus | Without Charger', '8,348', '234', '3K+ bought in past month', '3.8 out of 5 stars'], ['Redmi 13C 5G (Starlight Black, 4GB RAM, 128GB Storage) | MediaTek Dimensity 6100+ 5G | 90Hz Display', '10,498', '7,236', '5K+ bought in past month', '3.9 out of 5 stars'], ['Redmi 13C (Starfrost White, 4GB RAM, 128GB Storage) | Powered by 4G MediaTek Helio G85 | 90Hz Display | 50MP AI Triple Camera', '7,698', '7,187', '5K+ bought in past month', '4.0 out of 5 stars'], ['Apple iPhone 15 Plus (128 GB) - Blue', '79,999', '978', '100+ bought in past month', '4.1 out of 5 stars'], ['Apple iPhone 14 Plus (128 GB) - Midnight', '64,999', '1,993', '100+ bought in past month', '4.6 out of 5 stars'], ['OnePlus Nord CE4 Lite 5G (Super Silver, 8GB RAM, 128GB Storage)', '19,998', '1,400', '5K+ bought in past month', '4.5 out of 5 stars'], ['Redmi 13C (Starshine Green, 4GB RAM, 128GB Storage) | Powered by 4G MediaTek Helio G85 | 90Hz Display | 50MP AI Triple Camera', '7,698', '7,187', '5K+ bought in past month', '4.1 out of 5 stars'], ['Redmi 12 5G Jade Black 8GB RAM 256GB ROM', '13,998', '23,206', '5K+ bought in past month', '4.1 out of 5 stars'], [\"realme NARZO N65 5G (Deep Green 4GB RAM, 128GB Storage) India's 1st D6300 5G Chipset | Ultra Slim 190g Design | 120Hz Eye Comfort Display | 50MP AI Camera| Charger in The Box\", '11,498', '676', '1K+ bought in past month', '4.0 out of 5 stars'], ['realme NARZO N61 (Voyage Blue,6GB RAM+128GB Storage) 90Hz Eye Comfort Display | IP54 Dust & Water Resistance | 48-Month Fluency | Charger in The Box', '8,498', '103', '3K+ bought in past month', '4.1 out of 5 stars'], ['Nokia G42 5G | Snapdragon® 480+ 5G | 50MP Triple AI Camera | 11GB RAM (6GB RAM + 5GB Virtual RAM) | 128GB Storage | 5000mAh Battery | 2 Years Android Upgrades | 20W Charger Included | So Grey', '11,499', '4,908', '3K+ bought in past month', '3.8 out of 5 stars'], ['Redmi 13C (Starfrost White, 6GB RAM, 128GB Storage) | Powered by 4G MediaTek Helio G85 | 90Hz Display | 50MP AI Triple Camera', '8,498', '7,187', '4K+ bought in past month', '3.9 out of 5 stars'], ['OnePlus Nord CE 3 Lite 5G (Chromatic Gray, 8GB RAM, 256GB Storage)', '18,286', '49,759', '4K+ bought in past month', '4.1 out of 5 stars'], ['Apple iPhone 15 Pro Max (1 TB) - Natural Titanium', '1,89,400', '336', 'N/A', '4.2 out of 5 stars'], ['Apple iPhone 15 Pro (1 TB) - Black Titanium', '1,75,300', '323', 'N/A', '4.4 out of 5 stars'], ['Apple iPhone 15 (128 GB) - Black', '69,999', '2,142', '500+ bought in past month', '4.5 out of 5 stars'], ['Apple iPhone 15 Plus (256 GB) - Yellow', '90,600', '978', 'N/A', '4.6 out of 5 stars'], ['OnePlus 12R (Iron Gray, 16GB RAM, 256GB Storage)', '45,998', '3,050', '1K+ bought in past month', '4.4 out of 5 stars'], ['Samsung Galaxy M35 5G (Moonlight Blue,8GB RAM,256GB Storage)| Corning Gorilla Glass Victus+| AnTuTu Score 595K+ | Vapour Cooling Chamber | 6000mAh Battery | 120Hz Super AMOLED Display| Without Charger', '24,498', '1,289', '1K+ bought in past month', '4.2 out of 5 stars'], ['Redmi 13C 5G (Startrail Silver, 8GB RAM, 256GB Storage) | MediaTek Dimensity 6100+ 5G | 90Hz Display', '13,998', '7,236', '1K+ bought in past month', '4.0 out of 5 stars'], ['realme NARZO 70 Pro 5G (Glass Green, 8GB RAM,256GB Storage) Dimensity 7050 5G Chipset | Horizon Glass Design | Segment 1st Flagship Sony IMX890 OIS Camera', '18,998', '3,879', '5K+ bought in past month', '4.1 out of 5 stars'], ['Samsung Galaxy S21 FE 5G (Lavender, 8GB RAM, 256GB Storage) with Snapdragon 888 Processor', '27,999', '1,211', '1K+ bought in past month', '3.8 out of 5 stars'], ['OnePlus 12R (Iron Gray, 8GB RAM, 128GB Storage)', '39,998', '3,050', '500+ bought in past month', '4.4 out of 5 stars'], ['OnePlus Nord CE 3 Lite 5G (Chromatic Gray, 8GB RAM, 128GB Storage)', '16,803', '49,759', '5K+ bought in past month', '4.2 out of 5 stars'], ['OnePlus Nord 4 5G (Obsidian Midnight, 12GB RAM, 256GB Storage)', '35,998', '425', '2K+ bought in past month', '4.1 out of 5 stars'], ['Apple iPhone 15 Pro Max (256 GB) - Natural Titanium', '1,40,999', '336', '100+ bought in past month', '4.4 out of 5 stars'], ['Apple iPhone 14 Pro (256 GB) - Space Black', '1,39,900', '864', 'N/A', '4.6 out of 5 stars'], ['OnePlus Nord CE 2 Lite 5G (Blue Tide, 6GB RAM, 128GB Storage)', '16,988', '52,302', '100+ bought in past month', '4.2 out of 5 stars'], [\"realme NARZO N65 5G (Amber Gold 6GB RAM, 128GB Storage) India's 1st D6300 5G Chipset | Ultra Slim Design | 120Hz Eye Comfort Display | 50MP AI Camera| Charger in The Box\", '12,498', '676', '5K+ bought in past month', '4.1 out of 5 stars'], ['Redmi 13C 5G (Startrail Silver, 4GB RAM, 128GB Storage) | MediaTek Dimensity 6100+ 5G | 90Hz Display', '10,498', '7,236', '5K+ bought in past month', '4.0 out of 5 stars'], ['realme NARZO N61 (Marble Black, 4GB RAM+64GB Storage) 90Hz Eye Comfort Display | IP54 Dust & Water Resistance | 48-Month Fluency | Charger in The Box', '7,498', '103', '3K+ bought in past month', '3.8 out of 5 stars'], ['Redmi Note 13 5G (Arctic White, 12GB RAM, 256GB Storage) | 5G Ready | 120Hz Bezel-Less AMOLED | 7.mm Slimmest Note Ever | 108MP Pro-Grade Camera', '19,998', '4,780', '500+ bought in past month', '3.7 out of 5 stars'], ['Redmi 13C 5G (Startrail Green, 4GB RAM, 128GB Storage) | MediaTek Dimensity 6100+ 5G | 90Hz Display', '10,498', '7,236', '5K+ bought in past month', '4.0 out of 5 stars'], ['OnePlus Nord CE 3 Lite 5G (Pastel Lime, 8GB RAM, 128GB Storage)', '16,845', '49,759', '1K+ bought in past month', '4.2 out of 5 stars'], ['POCO C65 (Pastel Green 4GB RAM 128GB Storage)', '6,998', '2,050', '3K+ bought in past month', '4.0 out of 5 stars'], ['Apple iPhone 15 Pro (512 GB) - Natural Titanium', '1,56,400', '323', 'N/A', '4.3 out of 5 stars'], ['Apple iPhone 14 Plus (128 GB) - Starlight', '64,999', '1,993', '200+ bought in past month', '4.5 out of 5 stars'], ['Apple iPhone 13 (128GB) - Midnight', '51,999', '28,939', '500+ bought in past month', '4.5 out of 5 stars'], ['Apple iPhone 15 (128 GB) - Pink', '70,499', '2,142', '200+ bought in past month', '4.5 out of 5 stars'], ['Redmi 13C (Stardust Black, 4GB RAM, 128GB Storage) | Powered by 4G Mediatek Helio G85 | 90Hz Display | 50MP AI Triple Camera', '7,698', '7,187', '5K+ bought in past month', '4.1 out of 5 stars'], [\"realme NARZO N65 5G (Deep Green 6GB RAM, 128GB Storage) India's 1st D6300 5G Chipset | Ultra Slim Design | 120Hz Eye Comfort Display | 50MP AI Camera| Charger in The Box\", '12,498', '676', '5K+ bought in past month', '4.1 out of 5 stars'], ['POCO C65 (Pastel Blue 4GB RAM 128GB Storage)', '6,998', '2,050', '5K+ bought in past month', '4.0 out of 5 stars'], ['Samsung Galaxy M35 5G (Thunder Grey,6GB RAM,128GB Storage)| Corning Gorilla Glass Victus+| AnTuTu Score 595K+ | Vapour Cooling Chamber | 6000mAh Battery | 120Hz Super AMOLED Display| Without Charger', '19,998', '1,289', '3K+ bought in past month', '3.8 out of 5 stars'], ['Redmi 13 5G, Orchid Pink, 8GB+128GB | India Debut SD 4 Gen 2 AE | 108MP Pro Grade Camera | 6.79in Largest Display in Segment', '15,498', '906', '500+ bought in past month', '4.2 out of 5 stars'], ['Samsung Galaxy M14 4G (Sapphire Blue,4GB,64GB) | 50MP Triple Cam | 5000mAh Battery | Snapdragon 680 Processor | 2 Gen. OS Upgrade & 4 Year Security Update | 8GB RAM with RAM Plus | Without Charger', '8,348', '234', '3K+ bought in past month', '3.8 out of 5 stars'], ['Redmi 13C 5G (Starlight Black, 4GB RAM, 128GB Storage) | MediaTek Dimensity 6100+ 5G | 90Hz Display', '10,498', '7,236', '5K+ bought in past month', '3.9 out of 5 stars'], ['Redmi 13C (Starfrost White, 4GB RAM, 128GB Storage) | Powered by 4G MediaTek Helio G85 | 90Hz Display | 50MP AI Triple Camera', '7,698', '7,187', '5K+ bought in past month', '4.0 out of 5 stars'], ['Apple iPhone 15 Plus (128 GB) - Black', '79,999', '978', '200+ bought in past month', '4.1 out of 5 stars'], ['Apple iPhone 14 Plus (128 GB) - Midnight', '64,999', '1,993', '100+ bought in past month', '4.6 out of 5 stars'], ['OnePlus Nord CE4 Lite 5G (Super Silver, 8GB RAM, 128GB Storage)', '19,998', '1,400', '5K+ bought in past month', '4.5 out of 5 stars'], ['Redmi 13C (Starshine Green, 4GB RAM, 128GB Storage) | Powered by 4G MediaTek Helio G85 | 90Hz Display | 50MP AI Triple Camera', '7,698', '7,187', '5K+ bought in past month', '4.1 out of 5 stars'], ['Redmi 12 5G Jade Black 8GB RAM 256GB ROM', '13,998', '23,206', '5K+ bought in past month', '4.1 out of 5 stars'], [\"realme NARZO N65 5G (Deep Green 4GB RAM, 128GB Storage) India's 1st D6300 5G Chipset | Ultra Slim 190g Design | 120Hz Eye Comfort Display | 50MP AI Camera| Charger in The Box\", '11,498', '676', '1K+ bought in past month', '4.0 out of 5 stars'], ['realme NARZO N61 (Voyage Blue,6GB RAM+128GB Storage) 90Hz Eye Comfort Display | IP54 Dust & Water Resistance | 48-Month Fluency | Charger in The Box', '8,498', '103', '3K+ bought in past month', '4.1 out of 5 stars'], ['Nokia G42 5G | Snapdragon® 480+ 5G | 50MP Triple AI Camera | 11GB RAM (6GB RAM + 5GB Virtual RAM) | 128GB Storage | 5000mAh Battery | 2 Years Android Upgrades | 20W Charger Included | So Grey', '11,499', '4,908', '3K+ bought in past month', '3.8 out of 5 stars'], ['Redmi 13C (Starfrost White, 6GB RAM, 128GB Storage) | Powered by 4G MediaTek Helio G85 | 90Hz Display | 50MP AI Triple Camera', '8,498', '7,187', '4K+ bought in past month', '3.9 out of 5 stars'], ['OnePlus Nord CE 3 Lite 5G (Chromatic Gray, 8GB RAM, 256GB Storage)', '18,286', '49,759', '4K+ bought in past month', '4.1 out of 5 stars'], ['Apple iPhone 15 Pro Max (1 TB) - Natural Titanium', '1,89,400', '336', 'N/A', '4.2 out of 5 stars'], ['Apple iPhone 15 Pro (1 TB) - Black Titanium', '1,75,300', '323', 'N/A', '4.4 out of 5 stars'], ['Apple iPhone 15 (128 GB) - Black', '69,999', '2,142', '500+ bought in past month', '4.5 out of 5 stars'], ['Apple iPhone 15 Plus (128 GB) - Blue', '79,999', '978', '100+ bought in past month', '4.6 out of 5 stars'], ['OnePlus 12R (Iron Gray, 16GB RAM, 256GB Storage)', '45,998', '3,050', '1K+ bought in past month', '4.4 out of 5 stars'], ['Samsung Galaxy M35 5G (Moonlight Blue,8GB RAM,256GB Storage)| Corning Gorilla Glass Victus+| AnTuTu Score 595K+ | Vapour Cooling Chamber | 6000mAh Battery | 120Hz Super AMOLED Display| Without Charger', '24,498', '1,289', '1K+ bought in past month', '4.2 out of 5 stars'], ['Redmi 13C 5G (Startrail Silver, 8GB RAM, 256GB Storage) | MediaTek Dimensity 6100+ 5G | 90Hz Display', '13,998', '7,236', '1K+ bought in past month', '4.0 out of 5 stars'], ['realme NARZO 70 Pro 5G (Glass Green, 8GB RAM,256GB Storage) Dimensity 7050 5G Chipset | Horizon Glass Design | Segment 1st Flagship Sony IMX890 OIS Camera', '18,998', '3,879', '5K+ bought in past month', '4.1 out of 5 stars'], ['Samsung Galaxy S21 FE 5G (Lavender, 8GB RAM, 256GB Storage) with Snapdragon 888 Processor', '27,999', '1,211', '1K+ bought in past month', '3.8 out of 5 stars'], ['OnePlus 12R (Iron Gray, 8GB RAM, 128GB Storage)', '39,998', '3,050', '500+ bought in past month', '4.4 out of 5 stars'], ['OnePlus Nord CE 3 Lite 5G (Chromatic Gray, 8GB RAM, 128GB Storage)', '16,803', '49,759', '5K+ bought in past month', '4.2 out of 5 stars'], ['OnePlus Nord 4 5G (Obsidian Midnight, 12GB RAM, 256GB Storage)', '35,998', '425', '2K+ bought in past month', '4.1 out of 5 stars'], ['Apple iPhone 14 Pro (256 GB) - Space Black', '1,39,900', '864', 'N/A', '4.6 out of 5 stars'], ['Apple iPhone 15 Pro Max (256 GB) - Natural Titanium', '1,40,999', '336', '100+ bought in past month', '4.4 out of 5 stars'], ['OnePlus Nord CE 2 Lite 5G (Blue Tide, 6GB RAM, 128GB Storage)', '16,988', '52,302', '100+ bought in past month', '4.2 out of 5 stars'], [\"realme NARZO N65 5G (Amber Gold 6GB RAM, 128GB Storage) India's 1st D6300 5G Chipset | Ultra Slim Design | 120Hz Eye Comfort Display | 50MP AI Camera| Charger in The Box\", '12,498', '676', '5K+ bought in past month', '4.1 out of 5 stars'], ['Redmi 13C 5G (Startrail Silver, 4GB RAM, 128GB Storage) | MediaTek Dimensity 6100+ 5G | 90Hz Display', '10,498', '7,236', '5K+ bought in past month', '4.0 out of 5 stars'], ['realme NARZO N61 (Marble Black, 4GB RAM+64GB Storage) 90Hz Eye Comfort Display | IP54 Dust & Water Resistance | 48-Month Fluency | Charger in The Box', '7,498', '103', '3K+ bought in past month', '3.8 out of 5 stars'], ['Redmi Note 13 5G (Arctic White, 12GB RAM, 256GB Storage) | 5G Ready | 120Hz Bezel-Less AMOLED | 7.mm Slimmest Note Ever | 108MP Pro-Grade Camera', '19,998', '4,780', '500+ bought in past month', '3.7 out of 5 stars'], ['Redmi 13C 5G (Startrail Green, 4GB RAM, 128GB Storage) | MediaTek Dimensity 6100+ 5G | 90Hz Display', '10,498', '7,236', '5K+ bought in past month', '4.0 out of 5 stars'], ['OnePlus Nord CE 3 Lite 5G (Pastel Lime, 8GB RAM, 128GB Storage)', '16,845', '49,759', '1K+ bought in past month', '4.2 out of 5 stars'], ['POCO C65 (Pastel Green 4GB RAM 128GB Storage)', '6,998', '2,050', '3K+ bought in past month', '4.0 out of 5 stars'], ['Apple iPhone 14 Plus (128 GB) - Starlight', '64,999', '1,993', '200+ bought in past month', '4.5 out of 5 stars'], ['Apple iPhone 15 Pro (1 TB) - Blue Titanium', '1,75,300', '323', 'N/A', '4.3 out of 5 stars']]\n"
     ]
    }
   ],
   "source": [
    "for i in range(1,11):\n",
    "    elements()\n",
    "    try:\n",
    "        next_button = driver.find_element(By.CSS_SELECTOR, \".s-pagination-button\")\n",
    "        next_button.click()\n",
    "        time.sleep(5)\n",
    "    except Exception as e:\n",
    "        print(f\"Error: {e}\")\n",
    "        break\n",
    "\n",
    "print(len(product_details))\n",
    "print(product_details)\n"
   ]
  },
  {
   "cell_type": "code",
   "execution_count": 555,
   "id": "2c369591-dbb7-4513-a015-fe7b4d2ff3a4",
   "metadata": {},
   "outputs": [],
   "source": [
    "columns = [\"Product Name\", \"Price\", \"Number of Review\", \"Previous Month Buyers\",\"Rating Out of 5\"]\n",
    "df = pd.DataFrame(product_details, columns=columns)\n",
    "df.to_csv(\"Amazon Scraped Data\", index=False)"
   ]
  },
  {
   "cell_type": "code",
   "execution_count": 559,
   "id": "069e6f24-6a23-4492-b72f-4a956ef0eb89",
   "metadata": {},
   "outputs": [
    {
     "data": {
      "text/html": [
       "<div>\n",
       "<style scoped>\n",
       "    .dataframe tbody tr th:only-of-type {\n",
       "        vertical-align: middle;\n",
       "    }\n",
       "\n",
       "    .dataframe tbody tr th {\n",
       "        vertical-align: top;\n",
       "    }\n",
       "\n",
       "    .dataframe thead th {\n",
       "        text-align: right;\n",
       "    }\n",
       "</style>\n",
       "<table border=\"1\" class=\"dataframe\">\n",
       "  <thead>\n",
       "    <tr style=\"text-align: right;\">\n",
       "      <th></th>\n",
       "      <th>Product Name</th>\n",
       "      <th>Price</th>\n",
       "      <th>Number of Review</th>\n",
       "      <th>Previous Month Buyers</th>\n",
       "      <th>Rating Out of 5</th>\n",
       "    </tr>\n",
       "  </thead>\n",
       "  <tbody>\n",
       "    <tr>\n",
       "      <th>0</th>\n",
       "      <td>Apple iPhone 13 (128GB) - Midnight</td>\n",
       "      <td>51,999</td>\n",
       "      <td>28,939</td>\n",
       "      <td>500+ bought in past month</td>\n",
       "      <td>4.5 out of 5 stars</td>\n",
       "    </tr>\n",
       "    <tr>\n",
       "      <th>1</th>\n",
       "      <td>Apple iPhone 15 (128 GB) - Green</td>\n",
       "      <td>69,999</td>\n",
       "      <td>2,142</td>\n",
       "      <td>200+ bought in past month</td>\n",
       "      <td>4.5 out of 5 stars</td>\n",
       "    </tr>\n",
       "    <tr>\n",
       "      <th>2</th>\n",
       "      <td>Redmi 13C (Stardust Black, 4GB RAM, 128GB Stor...</td>\n",
       "      <td>7,698</td>\n",
       "      <td>7,187</td>\n",
       "      <td>5K+ bought in past month</td>\n",
       "      <td>4.1 out of 5 stars</td>\n",
       "    </tr>\n",
       "    <tr>\n",
       "      <th>3</th>\n",
       "      <td>realme NARZO N65 5G (Deep Green 6GB RAM, 128GB...</td>\n",
       "      <td>12,498</td>\n",
       "      <td>676</td>\n",
       "      <td>5K+ bought in past month</td>\n",
       "      <td>4.1 out of 5 stars</td>\n",
       "    </tr>\n",
       "    <tr>\n",
       "      <th>4</th>\n",
       "      <td>POCO C65 (Pastel Blue 4GB RAM 128GB Storage)</td>\n",
       "      <td>6,998</td>\n",
       "      <td>2,050</td>\n",
       "      <td>5K+ bought in past month</td>\n",
       "      <td>4.0 out of 5 stars</td>\n",
       "    </tr>\n",
       "  </tbody>\n",
       "</table>\n",
       "</div>"
      ],
      "text/plain": [
       "                                        Product Name   Price Number of Review  \\\n",
       "0                 Apple iPhone 13 (128GB) - Midnight  51,999           28,939   \n",
       "1                   Apple iPhone 15 (128 GB) - Green  69,999            2,142   \n",
       "2  Redmi 13C (Stardust Black, 4GB RAM, 128GB Stor...   7,698            7,187   \n",
       "3  realme NARZO N65 5G (Deep Green 6GB RAM, 128GB...  12,498              676   \n",
       "4       POCO C65 (Pastel Blue 4GB RAM 128GB Storage)   6,998            2,050   \n",
       "\n",
       "       Previous Month Buyers     Rating Out of 5  \n",
       "0  500+ bought in past month  4.5 out of 5 stars  \n",
       "1  200+ bought in past month  4.5 out of 5 stars  \n",
       "2   5K+ bought in past month  4.1 out of 5 stars  \n",
       "3   5K+ bought in past month  4.1 out of 5 stars  \n",
       "4   5K+ bought in past month  4.0 out of 5 stars  "
      ]
     },
     "execution_count": 559,
     "metadata": {},
     "output_type": "execute_result"
    }
   ],
   "source": [
    "df.head()"
   ]
  },
  {
   "cell_type": "code",
   "execution_count": 561,
   "id": "e6cac9ef-d735-4d9f-8b62-acc4cd8a2495",
   "metadata": {
    "scrolled": true
   },
   "outputs": [
    {
     "data": {
      "text/html": [
       "<div>\n",
       "<style scoped>\n",
       "    .dataframe tbody tr th:only-of-type {\n",
       "        vertical-align: middle;\n",
       "    }\n",
       "\n",
       "    .dataframe tbody tr th {\n",
       "        vertical-align: top;\n",
       "    }\n",
       "\n",
       "    .dataframe thead th {\n",
       "        text-align: right;\n",
       "    }\n",
       "</style>\n",
       "<table border=\"1\" class=\"dataframe\">\n",
       "  <thead>\n",
       "    <tr style=\"text-align: right;\">\n",
       "      <th></th>\n",
       "      <th>Product Name</th>\n",
       "      <th>Price</th>\n",
       "      <th>Number of Review</th>\n",
       "      <th>Previous Month Buyers</th>\n",
       "      <th>Rating Out of 5</th>\n",
       "    </tr>\n",
       "  </thead>\n",
       "  <tbody>\n",
       "    <tr>\n",
       "      <th>215</th>\n",
       "      <td>Redmi 13C 5G (Startrail Green, 4GB RAM, 128GB ...</td>\n",
       "      <td>10,498</td>\n",
       "      <td>7,236</td>\n",
       "      <td>5K+ bought in past month</td>\n",
       "      <td>4.0 out of 5 stars</td>\n",
       "    </tr>\n",
       "    <tr>\n",
       "      <th>216</th>\n",
       "      <td>OnePlus Nord CE 3 Lite 5G (Pastel Lime, 8GB RA...</td>\n",
       "      <td>16,845</td>\n",
       "      <td>49,759</td>\n",
       "      <td>1K+ bought in past month</td>\n",
       "      <td>4.2 out of 5 stars</td>\n",
       "    </tr>\n",
       "    <tr>\n",
       "      <th>217</th>\n",
       "      <td>POCO C65 (Pastel Green 4GB RAM 128GB Storage)</td>\n",
       "      <td>6,998</td>\n",
       "      <td>2,050</td>\n",
       "      <td>3K+ bought in past month</td>\n",
       "      <td>4.0 out of 5 stars</td>\n",
       "    </tr>\n",
       "    <tr>\n",
       "      <th>218</th>\n",
       "      <td>Apple iPhone 14 Plus (128 GB) - Starlight</td>\n",
       "      <td>64,999</td>\n",
       "      <td>1,993</td>\n",
       "      <td>200+ bought in past month</td>\n",
       "      <td>4.5 out of 5 stars</td>\n",
       "    </tr>\n",
       "    <tr>\n",
       "      <th>219</th>\n",
       "      <td>Apple iPhone 15 Pro (1 TB) - Blue Titanium</td>\n",
       "      <td>1,75,300</td>\n",
       "      <td>323</td>\n",
       "      <td>N/A</td>\n",
       "      <td>4.3 out of 5 stars</td>\n",
       "    </tr>\n",
       "  </tbody>\n",
       "</table>\n",
       "</div>"
      ],
      "text/plain": [
       "                                          Product Name     Price  \\\n",
       "215  Redmi 13C 5G (Startrail Green, 4GB RAM, 128GB ...    10,498   \n",
       "216  OnePlus Nord CE 3 Lite 5G (Pastel Lime, 8GB RA...    16,845   \n",
       "217      POCO C65 (Pastel Green 4GB RAM 128GB Storage)     6,998   \n",
       "218          Apple iPhone 14 Plus (128 GB) - Starlight    64,999   \n",
       "219         Apple iPhone 15 Pro (1 TB) - Blue Titanium  1,75,300   \n",
       "\n",
       "    Number of Review      Previous Month Buyers     Rating Out of 5  \n",
       "215            7,236   5K+ bought in past month  4.0 out of 5 stars  \n",
       "216           49,759   1K+ bought in past month  4.2 out of 5 stars  \n",
       "217            2,050   3K+ bought in past month  4.0 out of 5 stars  \n",
       "218            1,993  200+ bought in past month  4.5 out of 5 stars  \n",
       "219              323                        N/A  4.3 out of 5 stars  "
      ]
     },
     "execution_count": 561,
     "metadata": {},
     "output_type": "execute_result"
    }
   ],
   "source": [
    "df.tail()"
   ]
  },
  {
   "cell_type": "code",
   "execution_count": null,
   "id": "5abf498f-faac-4926-95f5-112459648560",
   "metadata": {},
   "outputs": [],
   "source": [
    "# Task:Data Cleaning"
   ]
  },
  {
   "cell_type": "code",
   "execution_count": 575,
   "id": "3cf52198-1974-4446-9d21-872285e77ac4",
   "metadata": {},
   "outputs": [],
   "source": [
    "df[\"Brand\"] = df[\"Product Name\"].str.split().str[0]"
   ]
  },
  {
   "cell_type": "code",
   "execution_count": 579,
   "id": "df8f11bb-2974-46a2-bd54-fb93c44fa526",
   "metadata": {},
   "outputs": [],
   "source": [
    "df[\"Brand\"] = df[\"Brand\"].str.title()"
   ]
  },
  {
   "cell_type": "code",
   "execution_count": 581,
   "id": "13a2b669-3032-4202-8397-e4622a9519e4",
   "metadata": {
    "scrolled": true
   },
   "outputs": [
    {
     "data": {
      "text/html": [
       "<div>\n",
       "<style scoped>\n",
       "    .dataframe tbody tr th:only-of-type {\n",
       "        vertical-align: middle;\n",
       "    }\n",
       "\n",
       "    .dataframe tbody tr th {\n",
       "        vertical-align: top;\n",
       "    }\n",
       "\n",
       "    .dataframe thead th {\n",
       "        text-align: right;\n",
       "    }\n",
       "</style>\n",
       "<table border=\"1\" class=\"dataframe\">\n",
       "  <thead>\n",
       "    <tr style=\"text-align: right;\">\n",
       "      <th></th>\n",
       "      <th>Product Name</th>\n",
       "      <th>Price</th>\n",
       "      <th>Number of Review</th>\n",
       "      <th>Previous Month Buyers</th>\n",
       "      <th>Rating Out of 5</th>\n",
       "      <th>Brand</th>\n",
       "    </tr>\n",
       "  </thead>\n",
       "  <tbody>\n",
       "    <tr>\n",
       "      <th>0</th>\n",
       "      <td>Apple iPhone 13 (128GB) - Midnight</td>\n",
       "      <td>51,999</td>\n",
       "      <td>28,939</td>\n",
       "      <td>500+ bought in past month</td>\n",
       "      <td>4.5 out of 5 stars</td>\n",
       "      <td>Apple</td>\n",
       "    </tr>\n",
       "    <tr>\n",
       "      <th>1</th>\n",
       "      <td>Apple iPhone 15 (128 GB) - Green</td>\n",
       "      <td>69,999</td>\n",
       "      <td>2,142</td>\n",
       "      <td>200+ bought in past month</td>\n",
       "      <td>4.5 out of 5 stars</td>\n",
       "      <td>Apple</td>\n",
       "    </tr>\n",
       "    <tr>\n",
       "      <th>2</th>\n",
       "      <td>Redmi 13C (Stardust Black, 4GB RAM, 128GB Stor...</td>\n",
       "      <td>7,698</td>\n",
       "      <td>7,187</td>\n",
       "      <td>5K+ bought in past month</td>\n",
       "      <td>4.1 out of 5 stars</td>\n",
       "      <td>Redmi</td>\n",
       "    </tr>\n",
       "    <tr>\n",
       "      <th>3</th>\n",
       "      <td>realme NARZO N65 5G (Deep Green 6GB RAM, 128GB...</td>\n",
       "      <td>12,498</td>\n",
       "      <td>676</td>\n",
       "      <td>5K+ bought in past month</td>\n",
       "      <td>4.1 out of 5 stars</td>\n",
       "      <td>Realme</td>\n",
       "    </tr>\n",
       "    <tr>\n",
       "      <th>4</th>\n",
       "      <td>POCO C65 (Pastel Blue 4GB RAM 128GB Storage)</td>\n",
       "      <td>6,998</td>\n",
       "      <td>2,050</td>\n",
       "      <td>5K+ bought in past month</td>\n",
       "      <td>4.0 out of 5 stars</td>\n",
       "      <td>Poco</td>\n",
       "    </tr>\n",
       "  </tbody>\n",
       "</table>\n",
       "</div>"
      ],
      "text/plain": [
       "                                        Product Name   Price Number of Review  \\\n",
       "0                 Apple iPhone 13 (128GB) - Midnight  51,999           28,939   \n",
       "1                   Apple iPhone 15 (128 GB) - Green  69,999            2,142   \n",
       "2  Redmi 13C (Stardust Black, 4GB RAM, 128GB Stor...   7,698            7,187   \n",
       "3  realme NARZO N65 5G (Deep Green 6GB RAM, 128GB...  12,498              676   \n",
       "4       POCO C65 (Pastel Blue 4GB RAM 128GB Storage)   6,998            2,050   \n",
       "\n",
       "       Previous Month Buyers     Rating Out of 5   Brand  \n",
       "0  500+ bought in past month  4.5 out of 5 stars   Apple  \n",
       "1  200+ bought in past month  4.5 out of 5 stars   Apple  \n",
       "2   5K+ bought in past month  4.1 out of 5 stars   Redmi  \n",
       "3   5K+ bought in past month  4.1 out of 5 stars  Realme  \n",
       "4   5K+ bought in past month  4.0 out of 5 stars    Poco  "
      ]
     },
     "execution_count": 581,
     "metadata": {},
     "output_type": "execute_result"
    }
   ],
   "source": [
    "df.head()"
   ]
  },
  {
   "cell_type": "code",
   "execution_count": 589,
   "id": "becf3fde-6add-48cb-927b-1f1dae415c32",
   "metadata": {
    "scrolled": true
   },
   "outputs": [
    {
     "data": {
      "text/html": [
       "<div>\n",
       "<style scoped>\n",
       "    .dataframe tbody tr th:only-of-type {\n",
       "        vertical-align: middle;\n",
       "    }\n",
       "\n",
       "    .dataframe tbody tr th {\n",
       "        vertical-align: top;\n",
       "    }\n",
       "\n",
       "    .dataframe thead th {\n",
       "        text-align: right;\n",
       "    }\n",
       "</style>\n",
       "<table border=\"1\" class=\"dataframe\">\n",
       "  <thead>\n",
       "    <tr style=\"text-align: right;\">\n",
       "      <th></th>\n",
       "      <th>Product Name</th>\n",
       "      <th>Price</th>\n",
       "      <th>Number of Review</th>\n",
       "      <th>Previous Month Buyers</th>\n",
       "      <th>Rating Out of 5</th>\n",
       "      <th>Brand</th>\n",
       "      <th>Rating</th>\n",
       "    </tr>\n",
       "  </thead>\n",
       "  <tbody>\n",
       "    <tr>\n",
       "      <th>0</th>\n",
       "      <td>Apple iPhone 13 (128GB) - Midnight</td>\n",
       "      <td>51999</td>\n",
       "      <td>28,939</td>\n",
       "      <td>500+ bought in past month</td>\n",
       "      <td>4.5 out of 5 stars</td>\n",
       "      <td>Apple</td>\n",
       "      <td>4.5</td>\n",
       "    </tr>\n",
       "    <tr>\n",
       "      <th>1</th>\n",
       "      <td>Apple iPhone 15 (128 GB) - Green</td>\n",
       "      <td>69999</td>\n",
       "      <td>2,142</td>\n",
       "      <td>200+ bought in past month</td>\n",
       "      <td>4.5 out of 5 stars</td>\n",
       "      <td>Apple</td>\n",
       "      <td>4.5</td>\n",
       "    </tr>\n",
       "    <tr>\n",
       "      <th>2</th>\n",
       "      <td>Redmi 13C (Stardust Black, 4GB RAM, 128GB Stor...</td>\n",
       "      <td>7698</td>\n",
       "      <td>7,187</td>\n",
       "      <td>5K+ bought in past month</td>\n",
       "      <td>4.1 out of 5 stars</td>\n",
       "      <td>Redmi</td>\n",
       "      <td>4.1</td>\n",
       "    </tr>\n",
       "    <tr>\n",
       "      <th>3</th>\n",
       "      <td>realme NARZO N65 5G (Deep Green 6GB RAM, 128GB...</td>\n",
       "      <td>12498</td>\n",
       "      <td>676</td>\n",
       "      <td>5K+ bought in past month</td>\n",
       "      <td>4.1 out of 5 stars</td>\n",
       "      <td>Realme</td>\n",
       "      <td>4.1</td>\n",
       "    </tr>\n",
       "    <tr>\n",
       "      <th>4</th>\n",
       "      <td>POCO C65 (Pastel Blue 4GB RAM 128GB Storage)</td>\n",
       "      <td>6998</td>\n",
       "      <td>2,050</td>\n",
       "      <td>5K+ bought in past month</td>\n",
       "      <td>4.0 out of 5 stars</td>\n",
       "      <td>Poco</td>\n",
       "      <td>4.0</td>\n",
       "    </tr>\n",
       "  </tbody>\n",
       "</table>\n",
       "</div>"
      ],
      "text/plain": [
       "                                        Product Name  Price Number of Review  \\\n",
       "0                 Apple iPhone 13 (128GB) - Midnight  51999           28,939   \n",
       "1                   Apple iPhone 15 (128 GB) - Green  69999            2,142   \n",
       "2  Redmi 13C (Stardust Black, 4GB RAM, 128GB Stor...   7698            7,187   \n",
       "3  realme NARZO N65 5G (Deep Green 6GB RAM, 128GB...  12498              676   \n",
       "4       POCO C65 (Pastel Blue 4GB RAM 128GB Storage)   6998            2,050   \n",
       "\n",
       "       Previous Month Buyers     Rating Out of 5   Brand Rating  \n",
       "0  500+ bought in past month  4.5 out of 5 stars   Apple    4.5  \n",
       "1  200+ bought in past month  4.5 out of 5 stars   Apple    4.5  \n",
       "2   5K+ bought in past month  4.1 out of 5 stars   Redmi    4.1  \n",
       "3   5K+ bought in past month  4.1 out of 5 stars  Realme    4.1  \n",
       "4   5K+ bought in past month  4.0 out of 5 stars    Poco    4.0  "
      ]
     },
     "execution_count": 589,
     "metadata": {},
     "output_type": "execute_result"
    }
   ],
   "source": [
    "df[\"Rating\"] = df[\"Rating Out of 5\"].str.split().str[0]\n",
    "df.head()"
   ]
  },
  {
   "cell_type": "code",
   "execution_count": 593,
   "id": "b9047fda-4820-4e65-bd19-5c0841987c52",
   "metadata": {
    "scrolled": true
   },
   "outputs": [
    {
     "data": {
      "text/html": [
       "<div>\n",
       "<style scoped>\n",
       "    .dataframe tbody tr th:only-of-type {\n",
       "        vertical-align: middle;\n",
       "    }\n",
       "\n",
       "    .dataframe tbody tr th {\n",
       "        vertical-align: top;\n",
       "    }\n",
       "\n",
       "    .dataframe thead th {\n",
       "        text-align: right;\n",
       "    }\n",
       "</style>\n",
       "<table border=\"1\" class=\"dataframe\">\n",
       "  <thead>\n",
       "    <tr style=\"text-align: right;\">\n",
       "      <th></th>\n",
       "      <th>Product Name</th>\n",
       "      <th>Price</th>\n",
       "      <th>Number of Review</th>\n",
       "      <th>Previous Month Buyers</th>\n",
       "      <th>Rating Out of 5</th>\n",
       "      <th>Brand</th>\n",
       "      <th>Rating</th>\n",
       "    </tr>\n",
       "  </thead>\n",
       "  <tbody>\n",
       "    <tr>\n",
       "      <th>0</th>\n",
       "      <td>Apple iPhone 13 (128GB) - Midnight</td>\n",
       "      <td>51999</td>\n",
       "      <td>28,939</td>\n",
       "      <td>500+ bought in past month</td>\n",
       "      <td>4.5 out of 5 stars</td>\n",
       "      <td>Apple</td>\n",
       "      <td>4.5</td>\n",
       "    </tr>\n",
       "    <tr>\n",
       "      <th>1</th>\n",
       "      <td>Apple iPhone 15 (128 GB) - Green</td>\n",
       "      <td>69999</td>\n",
       "      <td>2,142</td>\n",
       "      <td>200+ bought in past month</td>\n",
       "      <td>4.5 out of 5 stars</td>\n",
       "      <td>Apple</td>\n",
       "      <td>4.5</td>\n",
       "    </tr>\n",
       "    <tr>\n",
       "      <th>2</th>\n",
       "      <td>Redmi 13C (Stardust Black, 4GB RAM, 128GB Stor...</td>\n",
       "      <td>7698</td>\n",
       "      <td>7,187</td>\n",
       "      <td>5K+ bought in past month</td>\n",
       "      <td>4.1 out of 5 stars</td>\n",
       "      <td>Redmi</td>\n",
       "      <td>4.1</td>\n",
       "    </tr>\n",
       "    <tr>\n",
       "      <th>3</th>\n",
       "      <td>realme NARZO N65 5G (Deep Green 6GB RAM, 128GB...</td>\n",
       "      <td>12498</td>\n",
       "      <td>676</td>\n",
       "      <td>5K+ bought in past month</td>\n",
       "      <td>4.1 out of 5 stars</td>\n",
       "      <td>Realme</td>\n",
       "      <td>4.1</td>\n",
       "    </tr>\n",
       "    <tr>\n",
       "      <th>4</th>\n",
       "      <td>POCO C65 (Pastel Blue 4GB RAM 128GB Storage)</td>\n",
       "      <td>6998</td>\n",
       "      <td>2,050</td>\n",
       "      <td>5K+ bought in past month</td>\n",
       "      <td>4.0 out of 5 stars</td>\n",
       "      <td>Poco</td>\n",
       "      <td>4.0</td>\n",
       "    </tr>\n",
       "  </tbody>\n",
       "</table>\n",
       "</div>"
      ],
      "text/plain": [
       "                                        Product Name  Price Number of Review  \\\n",
       "0                 Apple iPhone 13 (128GB) - Midnight  51999           28,939   \n",
       "1                   Apple iPhone 15 (128 GB) - Green  69999            2,142   \n",
       "2  Redmi 13C (Stardust Black, 4GB RAM, 128GB Stor...   7698            7,187   \n",
       "3  realme NARZO N65 5G (Deep Green 6GB RAM, 128GB...  12498              676   \n",
       "4       POCO C65 (Pastel Blue 4GB RAM 128GB Storage)   6998            2,050   \n",
       "\n",
       "       Previous Month Buyers     Rating Out of 5   Brand  Rating  \n",
       "0  500+ bought in past month  4.5 out of 5 stars   Apple     4.5  \n",
       "1  200+ bought in past month  4.5 out of 5 stars   Apple     4.5  \n",
       "2   5K+ bought in past month  4.1 out of 5 stars   Redmi     4.1  \n",
       "3   5K+ bought in past month  4.1 out of 5 stars  Realme     4.1  \n",
       "4   5K+ bought in past month  4.0 out of 5 stars    Poco     4.0  "
      ]
     },
     "execution_count": 593,
     "metadata": {},
     "output_type": "execute_result"
    }
   ],
   "source": [
    "df[\"Price\"] = df[\"Price\"].astype(int)\n",
    "df['Rating'] = pd.to_numeric(df['Rating'], errors='coerce')\n",
    "df.head()"
   ]
  },
  {
   "cell_type": "code",
   "execution_count": 595,
   "id": "0953a309-bd81-4877-8513-564d63a659df",
   "metadata": {
    "scrolled": true
   },
   "outputs": [
    {
     "data": {
      "text/html": [
       "<div>\n",
       "<style scoped>\n",
       "    .dataframe tbody tr th:only-of-type {\n",
       "        vertical-align: middle;\n",
       "    }\n",
       "\n",
       "    .dataframe tbody tr th {\n",
       "        vertical-align: top;\n",
       "    }\n",
       "\n",
       "    .dataframe thead th {\n",
       "        text-align: right;\n",
       "    }\n",
       "</style>\n",
       "<table border=\"1\" class=\"dataframe\">\n",
       "  <thead>\n",
       "    <tr style=\"text-align: right;\">\n",
       "      <th></th>\n",
       "      <th>Product Name</th>\n",
       "      <th>Price</th>\n",
       "      <th>Number of Review</th>\n",
       "      <th>Previous Month Buyers</th>\n",
       "      <th>Rating Out of 5</th>\n",
       "      <th>Brand</th>\n",
       "      <th>Rating</th>\n",
       "    </tr>\n",
       "  </thead>\n",
       "  <tbody>\n",
       "    <tr>\n",
       "      <th>0</th>\n",
       "      <td>Apple iPhone 13 (128GB) - Midnight</td>\n",
       "      <td>51999</td>\n",
       "      <td>28939</td>\n",
       "      <td>500+ bought in past month</td>\n",
       "      <td>4.5 out of 5 stars</td>\n",
       "      <td>Apple</td>\n",
       "      <td>4.5</td>\n",
       "    </tr>\n",
       "    <tr>\n",
       "      <th>1</th>\n",
       "      <td>Apple iPhone 15 (128 GB) - Green</td>\n",
       "      <td>69999</td>\n",
       "      <td>2142</td>\n",
       "      <td>200+ bought in past month</td>\n",
       "      <td>4.5 out of 5 stars</td>\n",
       "      <td>Apple</td>\n",
       "      <td>4.5</td>\n",
       "    </tr>\n",
       "    <tr>\n",
       "      <th>2</th>\n",
       "      <td>Redmi 13C (Stardust Black, 4GB RAM, 128GB Stor...</td>\n",
       "      <td>7698</td>\n",
       "      <td>7187</td>\n",
       "      <td>5K+ bought in past month</td>\n",
       "      <td>4.1 out of 5 stars</td>\n",
       "      <td>Redmi</td>\n",
       "      <td>4.1</td>\n",
       "    </tr>\n",
       "    <tr>\n",
       "      <th>3</th>\n",
       "      <td>realme NARZO N65 5G (Deep Green 6GB RAM, 128GB...</td>\n",
       "      <td>12498</td>\n",
       "      <td>676</td>\n",
       "      <td>5K+ bought in past month</td>\n",
       "      <td>4.1 out of 5 stars</td>\n",
       "      <td>Realme</td>\n",
       "      <td>4.1</td>\n",
       "    </tr>\n",
       "    <tr>\n",
       "      <th>4</th>\n",
       "      <td>POCO C65 (Pastel Blue 4GB RAM 128GB Storage)</td>\n",
       "      <td>6998</td>\n",
       "      <td>2050</td>\n",
       "      <td>5K+ bought in past month</td>\n",
       "      <td>4.0 out of 5 stars</td>\n",
       "      <td>Poco</td>\n",
       "      <td>4.0</td>\n",
       "    </tr>\n",
       "  </tbody>\n",
       "</table>\n",
       "</div>"
      ],
      "text/plain": [
       "                                        Product Name  Price  Number of Review  \\\n",
       "0                 Apple iPhone 13 (128GB) - Midnight  51999             28939   \n",
       "1                   Apple iPhone 15 (128 GB) - Green  69999              2142   \n",
       "2  Redmi 13C (Stardust Black, 4GB RAM, 128GB Stor...   7698              7187   \n",
       "3  realme NARZO N65 5G (Deep Green 6GB RAM, 128GB...  12498               676   \n",
       "4       POCO C65 (Pastel Blue 4GB RAM 128GB Storage)   6998              2050   \n",
       "\n",
       "       Previous Month Buyers     Rating Out of 5   Brand  Rating  \n",
       "0  500+ bought in past month  4.5 out of 5 stars   Apple     4.5  \n",
       "1  200+ bought in past month  4.5 out of 5 stars   Apple     4.5  \n",
       "2   5K+ bought in past month  4.1 out of 5 stars   Redmi     4.1  \n",
       "3   5K+ bought in past month  4.1 out of 5 stars  Realme     4.1  \n",
       "4   5K+ bought in past month  4.0 out of 5 stars    Poco     4.0  "
      ]
     },
     "execution_count": 595,
     "metadata": {},
     "output_type": "execute_result"
    }
   ],
   "source": [
    "df[\"Number of Review\"] = df[\"Number of Review\"].str.replace(\",\", \"\")\n",
    "df[\"Number of Review\"]= df[\"Number of Review\"].astype(int)\n",
    "df.head()"
   ]
  },
  {
   "cell_type": "code",
   "execution_count": 597,
   "id": "88233b5e-00a2-44df-ae26-cbdafaafb6da",
   "metadata": {},
   "outputs": [],
   "source": [
    "cleaned_df = df.dropna()"
   ]
  },
  {
   "cell_type": "code",
   "execution_count": 615,
   "id": "1d1314c9-7597-4371-8c15-2d170bfcec38",
   "metadata": {},
   "outputs": [
    {
     "data": {
      "text/plain": [
       "(220, 7)"
      ]
     },
     "execution_count": 615,
     "metadata": {},
     "output_type": "execute_result"
    }
   ],
   "source": [
    "cleaned_df.shape"
   ]
  },
  {
   "cell_type": "code",
   "execution_count": 715,
   "id": "af9a9666-233c-4e7f-bafd-3451ed296352",
   "metadata": {
    "scrolled": true
   },
   "outputs": [
    {
     "data": {
      "text/html": [
       "<div>\n",
       "<style scoped>\n",
       "    .dataframe tbody tr th:only-of-type {\n",
       "        vertical-align: middle;\n",
       "    }\n",
       "\n",
       "    .dataframe tbody tr th {\n",
       "        vertical-align: top;\n",
       "    }\n",
       "\n",
       "    .dataframe thead th {\n",
       "        text-align: right;\n",
       "    }\n",
       "</style>\n",
       "<table border=\"1\" class=\"dataframe\">\n",
       "  <thead>\n",
       "    <tr style=\"text-align: right;\">\n",
       "      <th></th>\n",
       "      <th>Product Name</th>\n",
       "      <th>Price</th>\n",
       "      <th>Number of Review</th>\n",
       "      <th>Previous Month Buyers</th>\n",
       "      <th>Rating Out of 5</th>\n",
       "      <th>Brand</th>\n",
       "      <th>Rating</th>\n",
       "      <th>Previous Month Buyers Numeric</th>\n",
       "      <th>Segmentation</th>\n",
       "    </tr>\n",
       "  </thead>\n",
       "  <tbody>\n",
       "    <tr>\n",
       "      <th>215</th>\n",
       "      <td>Redmi 13C 5G (Startrail Green, 4GB RAM, 128GB ...</td>\n",
       "      <td>10498</td>\n",
       "      <td>7236</td>\n",
       "      <td>5K+ bought in past month</td>\n",
       "      <td>4.0 out of 5 stars</td>\n",
       "      <td>Redmi</td>\n",
       "      <td>4.00</td>\n",
       "      <td>5000</td>\n",
       "      <td>affordable</td>\n",
       "    </tr>\n",
       "    <tr>\n",
       "      <th>216</th>\n",
       "      <td>OnePlus Nord CE 3 Lite 5G (Pastel Lime, 8GB RA...</td>\n",
       "      <td>16845</td>\n",
       "      <td>49759</td>\n",
       "      <td>1K+ bought in past month</td>\n",
       "      <td>4.2 out of 5 stars</td>\n",
       "      <td>Oneplus</td>\n",
       "      <td>4.20</td>\n",
       "      <td>1000</td>\n",
       "      <td>mid range</td>\n",
       "    </tr>\n",
       "    <tr>\n",
       "      <th>217</th>\n",
       "      <td>POCO C65 (Pastel Green 4GB RAM 128GB Storage)</td>\n",
       "      <td>6998</td>\n",
       "      <td>2050</td>\n",
       "      <td>3K+ bought in past month</td>\n",
       "      <td>4.0 out of 5 stars</td>\n",
       "      <td>Poco</td>\n",
       "      <td>4.00</td>\n",
       "      <td>3000</td>\n",
       "      <td>affordable</td>\n",
       "    </tr>\n",
       "    <tr>\n",
       "      <th>218</th>\n",
       "      <td>Apple iPhone 14 Plus (128 GB) - Starlight</td>\n",
       "      <td>64999</td>\n",
       "      <td>1993</td>\n",
       "      <td>200+ bought in past month</td>\n",
       "      <td>4.5 out of 5 stars</td>\n",
       "      <td>Apple</td>\n",
       "      <td>4.50</td>\n",
       "      <td>200</td>\n",
       "      <td>premium</td>\n",
       "    </tr>\n",
       "    <tr>\n",
       "      <th>219</th>\n",
       "      <td>Apple iPhone 15 Pro (1 TB) - Blue Titanium</td>\n",
       "      <td>175300</td>\n",
       "      <td>323</td>\n",
       "      <td>N/A</td>\n",
       "      <td>4.3 out of 5 stars</td>\n",
       "      <td>Apple</td>\n",
       "      <td>4.30</td>\n",
       "      <td>0</td>\n",
       "      <td>premium</td>\n",
       "    </tr>\n",
       "  </tbody>\n",
       "</table>\n",
       "</div>"
      ],
      "text/plain": [
       "                                          Product Name   Price  \\\n",
       "215  Redmi 13C 5G (Startrail Green, 4GB RAM, 128GB ...   10498   \n",
       "216  OnePlus Nord CE 3 Lite 5G (Pastel Lime, 8GB RA...   16845   \n",
       "217      POCO C65 (Pastel Green 4GB RAM 128GB Storage)    6998   \n",
       "218          Apple iPhone 14 Plus (128 GB) - Starlight   64999   \n",
       "219         Apple iPhone 15 Pro (1 TB) - Blue Titanium  175300   \n",
       "\n",
       "     Number of Review      Previous Month Buyers     Rating Out of 5    Brand  \\\n",
       "215              7236   5K+ bought in past month  4.0 out of 5 stars    Redmi   \n",
       "216             49759   1K+ bought in past month  4.2 out of 5 stars  Oneplus   \n",
       "217              2050   3K+ bought in past month  4.0 out of 5 stars     Poco   \n",
       "218              1993  200+ bought in past month  4.5 out of 5 stars    Apple   \n",
       "219               323                        N/A  4.3 out of 5 stars    Apple   \n",
       "\n",
       "     Rating  Previous Month Buyers Numeric Segmentation  \n",
       "215    4.00                           5000   affordable  \n",
       "216    4.20                           1000    mid range  \n",
       "217    4.00                           3000   affordable  \n",
       "218    4.50                            200      premium  \n",
       "219    4.30                              0      premium  "
      ]
     },
     "execution_count": 715,
     "metadata": {},
     "output_type": "execute_result"
    }
   ],
   "source": [
    "def transform_value(value):\n",
    "    if pd.isna(value) or 'N/A' in value:\n",
    "        return 0\n",
    "    numeric_part = pd.Series(value).str.extract(r'(\\d+)').astype(int).iloc[0, 0]\n",
    "    if pd.isna(numeric_part):\n",
    "        return 0\n",
    "    if 'K' in value:\n",
    "        return numeric_part * 1000\n",
    "    return numeric_part\n",
    "\n",
    "df['Previous Month Buyers Numeric'] = df['Previous Month Buyers'].apply(transform_value)\n",
    "df.tail()"
   ]
  },
  {
   "cell_type": "code",
   "execution_count": 717,
   "id": "104737b4-ba5c-477c-b4ef-7e4ef638a78e",
   "metadata": {},
   "outputs": [],
   "source": [
    "def segmentation(price):\n",
    "    if pd.isna(price) or (isinstance(price, str) and 'N/A' in price):\n",
    "        return 0\n",
    "    elif isinstance(price, (int, float)):\n",
    "        if price < 15000:\n",
    "            return \"affordable\"\n",
    "        elif price < 40000:\n",
    "            return \"mid range\"\n",
    "        else:\n",
    "            return \"premium\"\n",
    "    else:\n",
    "        return 0 \n",
    "\n",
    "\n",
    "df[\"Segmentation\"] = df[\"Price\"].apply(segmentation)"
   ]
  },
  {
   "cell_type": "code",
   "execution_count": 719,
   "id": "32a51fd9-065b-463e-92f8-f8a05627f632",
   "metadata": {
    "scrolled": true
   },
   "outputs": [
    {
     "data": {
      "text/html": [
       "<div>\n",
       "<style scoped>\n",
       "    .dataframe tbody tr th:only-of-type {\n",
       "        vertical-align: middle;\n",
       "    }\n",
       "\n",
       "    .dataframe tbody tr th {\n",
       "        vertical-align: top;\n",
       "    }\n",
       "\n",
       "    .dataframe thead th {\n",
       "        text-align: right;\n",
       "    }\n",
       "</style>\n",
       "<table border=\"1\" class=\"dataframe\">\n",
       "  <thead>\n",
       "    <tr style=\"text-align: right;\">\n",
       "      <th></th>\n",
       "      <th>Product Name</th>\n",
       "      <th>Price</th>\n",
       "      <th>Number of Review</th>\n",
       "      <th>Previous Month Buyers</th>\n",
       "      <th>Rating Out of 5</th>\n",
       "      <th>Brand</th>\n",
       "      <th>Rating</th>\n",
       "      <th>Previous Month Buyers Numeric</th>\n",
       "      <th>Segmentation</th>\n",
       "    </tr>\n",
       "  </thead>\n",
       "  <tbody>\n",
       "    <tr>\n",
       "      <th>0</th>\n",
       "      <td>Apple iPhone 13 (128GB) - Midnight</td>\n",
       "      <td>51999</td>\n",
       "      <td>28939</td>\n",
       "      <td>500+ bought in past month</td>\n",
       "      <td>4.5 out of 5 stars</td>\n",
       "      <td>Apple</td>\n",
       "      <td>4.50</td>\n",
       "      <td>500</td>\n",
       "      <td>premium</td>\n",
       "    </tr>\n",
       "    <tr>\n",
       "      <th>1</th>\n",
       "      <td>Apple iPhone 15 (128 GB) - Green</td>\n",
       "      <td>69999</td>\n",
       "      <td>2142</td>\n",
       "      <td>200+ bought in past month</td>\n",
       "      <td>4.5 out of 5 stars</td>\n",
       "      <td>Apple</td>\n",
       "      <td>4.50</td>\n",
       "      <td>200</td>\n",
       "      <td>premium</td>\n",
       "    </tr>\n",
       "    <tr>\n",
       "      <th>2</th>\n",
       "      <td>Redmi 13C (Stardust Black, 4GB RAM, 128GB Stor...</td>\n",
       "      <td>7698</td>\n",
       "      <td>7187</td>\n",
       "      <td>5K+ bought in past month</td>\n",
       "      <td>4.1 out of 5 stars</td>\n",
       "      <td>Redmi</td>\n",
       "      <td>4.10</td>\n",
       "      <td>5000</td>\n",
       "      <td>affordable</td>\n",
       "    </tr>\n",
       "    <tr>\n",
       "      <th>3</th>\n",
       "      <td>realme NARZO N65 5G (Deep Green 6GB RAM, 128GB...</td>\n",
       "      <td>12498</td>\n",
       "      <td>676</td>\n",
       "      <td>5K+ bought in past month</td>\n",
       "      <td>4.1 out of 5 stars</td>\n",
       "      <td>Realme</td>\n",
       "      <td>4.10</td>\n",
       "      <td>5000</td>\n",
       "      <td>affordable</td>\n",
       "    </tr>\n",
       "    <tr>\n",
       "      <th>4</th>\n",
       "      <td>POCO C65 (Pastel Blue 4GB RAM 128GB Storage)</td>\n",
       "      <td>6998</td>\n",
       "      <td>2050</td>\n",
       "      <td>5K+ bought in past month</td>\n",
       "      <td>4.0 out of 5 stars</td>\n",
       "      <td>Poco</td>\n",
       "      <td>4.00</td>\n",
       "      <td>5000</td>\n",
       "      <td>affordable</td>\n",
       "    </tr>\n",
       "  </tbody>\n",
       "</table>\n",
       "</div>"
      ],
      "text/plain": [
       "                                        Product Name  Price  Number of Review  \\\n",
       "0                 Apple iPhone 13 (128GB) - Midnight  51999             28939   \n",
       "1                   Apple iPhone 15 (128 GB) - Green  69999              2142   \n",
       "2  Redmi 13C (Stardust Black, 4GB RAM, 128GB Stor...   7698              7187   \n",
       "3  realme NARZO N65 5G (Deep Green 6GB RAM, 128GB...  12498               676   \n",
       "4       POCO C65 (Pastel Blue 4GB RAM 128GB Storage)   6998              2050   \n",
       "\n",
       "       Previous Month Buyers     Rating Out of 5   Brand  Rating  \\\n",
       "0  500+ bought in past month  4.5 out of 5 stars   Apple    4.50   \n",
       "1  200+ bought in past month  4.5 out of 5 stars   Apple    4.50   \n",
       "2   5K+ bought in past month  4.1 out of 5 stars   Redmi    4.10   \n",
       "3   5K+ bought in past month  4.1 out of 5 stars  Realme    4.10   \n",
       "4   5K+ bought in past month  4.0 out of 5 stars    Poco    4.00   \n",
       "\n",
       "   Previous Month Buyers Numeric Segmentation  \n",
       "0                            500      premium  \n",
       "1                            200      premium  \n",
       "2                           5000   affordable  \n",
       "3                           5000   affordable  \n",
       "4                           5000   affordable  "
      ]
     },
     "execution_count": 719,
     "metadata": {},
     "output_type": "execute_result"
    }
   ],
   "source": [
    "df.head()"
   ]
  },
  {
   "cell_type": "code",
   "execution_count": 723,
   "id": "668c3475-d59f-4e3e-87c6-dc82e9352e69",
   "metadata": {
    "scrolled": true
   },
   "outputs": [
    {
     "data": {
      "text/plain": [
       "Index(['Product Name', 'Price', 'Number of Review', 'Previous Month Buyers',\n",
       "       'Rating Out of 5', 'Brand', 'Rating', 'Previous Month Buyers Numeric',\n",
       "       'Segmentation'],\n",
       "      dtype='object')"
      ]
     },
     "execution_count": 723,
     "metadata": {},
     "output_type": "execute_result"
    }
   ],
   "source": [
    "df.columns"
   ]
  },
  {
   "cell_type": "code",
   "execution_count": 725,
   "id": "531fe1d7-08cc-4104-8d7b-8c5e9745f018",
   "metadata": {},
   "outputs": [
    {
     "name": "stdout",
     "output_type": "stream",
     "text": [
      "Product Name                      object\n",
      "Price                              int32\n",
      "Number of Review                   int32\n",
      "Previous Month Buyers             object\n",
      "Rating Out of 5                   object\n",
      "Brand                             object\n",
      "Rating                           float64\n",
      "Previous Month Buyers Numeric      int64\n",
      "Segmentation                      object\n",
      "dtype: object\n"
     ]
    }
   ],
   "source": [
    "print(df.dtypes)"
   ]
  },
  {
   "cell_type": "code",
   "execution_count": 727,
   "id": "d80e118f-cb02-45b3-8c8b-fef2fc4df5a6",
   "metadata": {},
   "outputs": [
    {
     "name": "stdout",
     "output_type": "stream",
     "text": [
      "           Price  Number of Review  Rating  Previous Month Buyers Numeric\n",
      "count     220.00            220.00  220.00                         220.00\n",
      "mean   41,084.78          8,104.07    4.16                       2,328.18\n",
      "std    48,555.23         14,480.40    0.24                       2,049.06\n",
      "min     6,998.00            103.00    3.70                           0.00\n",
      "25%    10,498.00            817.00    4.00                         425.00\n",
      "50%    17,637.00          2,050.00    4.10                       1,500.00\n",
      "75%    55,249.00          7,187.00    4.40                       5,000.00\n",
      "max   189,400.00         52,302.00    4.60                       5,000.00\n"
     ]
    }
   ],
   "source": [
    "print(df.describe())"
   ]
  },
  {
   "cell_type": "code",
   "execution_count": 729,
   "id": "77fc619d-ecfd-4bb4-973e-8ac2a0b6ca2c",
   "metadata": {},
   "outputs": [
    {
     "data": {
      "image/png": "[encoded data removed]",
      "text/plain": [
       "<Figure size 640x480 with 1 Axes>"
      ]
     },
     "metadata": {},
     "output_type": "display_data"
    }
   ],
   "source": [
    "sns.countplot(data=df, x='Brand')\n",
    "plt.xticks(rotation=90)\n",
    "plt.show()"
   ]
  },
  {
   "cell_type": "code",
   "execution_count": 731,
   "id": "ad7514d1-4ad1-4e19-97ab-94c5a0b7df3a",
   "metadata": {},
   "outputs": [
    {
     "data": {
      "text/plain": [
       "Segmentation\n",
       "affordable   3.99\n",
       "mid range    4.11\n",
       "premium      4.43\n",
       "Name: Rating, dtype: float64"
      ]
     },
     "execution_count": 731,
     "metadata": {},
     "output_type": "execute_result"
    }
   ],
   "source": [
    "#Compare Ratings: Are premium smartphones rated higher on average than affordable ones?\n",
    "avg_rating_per_segment = df.groupby(\"Segmentation\")[\"Rating\"].mean()\n",
    "avg_rating_per_segment"
   ]
  },
  {
   "cell_type": "code",
   "execution_count": 733,
   "id": "571a1cad-f961-429b-9ce3-3408ae6dcaf0",
   "metadata": {},
   "outputs": [
    {
     "data": {
      "text/plain": [
       "Segmentation\n",
       "affordable     461870\n",
       "mid range     1099040\n",
       "premium        221985\n",
       "Name: Number of Review, dtype: int32"
      ]
     },
     "execution_count": 733,
     "metadata": {},
     "output_type": "execute_result"
    }
   ],
   "source": [
    "#As we see premium have higher rating let's check the number of rating for each segment\n",
    "number_of_rating_per_segment = df.groupby(\"Segmentation\")[\"Number of Review\"].sum()\n",
    "number_of_rating_per_segment"
   ]
  },
  {
   "cell_type": "code",
   "execution_count": 735,
   "id": "84e91486-af58-4a13-a020-cd9a9e9a8257",
   "metadata": {},
   "outputs": [
    {
     "data": {
      "text/plain": [
       "Segmentation\n",
       "affordable     9,856.39\n",
       "mid range     22,454.23\n",
       "premium      102,954.65\n",
       "Name: Price, dtype: float64"
      ]
     },
     "execution_count": 735,
     "metadata": {},
     "output_type": "execute_result"
    }
   ],
   "source": [
    "#let's check the average price range of these segments\n",
    "pd.options.display.float_format = \"{:,.2f}\".format\n",
    "average_price_per_segment = df.groupby(\"Segmentation\")[\"Price\"].mean()\n",
    "average_price_per_segment"
   ]
  },
  {
   "cell_type": "code",
   "execution_count": 737,
   "id": "b047a5ce-81da-4fe8-91c2-772f581d130b",
   "metadata": {},
   "outputs": [
    {
     "data": {
      "text/plain": [
       "Brand\n",
       "Apple     4.43\n",
       "Nokia     3.80\n",
       "Oneplus   4.26\n",
       "Poco      4.00\n",
       "Realme    4.03\n",
       "Redmi     4.00\n",
       "Samsung   3.90\n",
       "Name: Rating, dtype: float64"
      ]
     },
     "execution_count": 737,
     "metadata": {},
     "output_type": "execute_result"
    }
   ],
   "source": [
    "#let's find out the average rating per Brand\n",
    "avg_rating_per_brand = df.groupby(\"Brand\")[\"Rating\"].mean()\n",
    "avg_rating_per_brand"
   ]
  },
  {
   "cell_type": "code",
   "execution_count": 739,
   "id": "e39e2aae-b6d1-4bf3-9d99-5b1ca5cafac3",
   "metadata": {},
   "outputs": [
    {
     "data": {
      "text/plain": [
       "Brand\n",
       "Apple     107,701.03\n",
       "Nokia      11,499.00\n",
       "Oneplus    26,364.25\n",
       "Poco        6,998.00\n",
       "Realme     11,914.67\n",
       "Redmi      11,507.09\n",
       "Samsung    20,210.75\n",
       "Name: Price, dtype: float64"
      ]
     },
     "execution_count": 739,
     "metadata": {},
     "output_type": "execute_result"
    }
   ],
   "source": [
    "#let's find out the average price per Brand\n",
    "avg_price_per_brand = df.groupby(\"Brand\")[\"Price\"].mean()\n",
    "avg_price_per_brand"
   ]
  },
  {
   "cell_type": "code",
   "execution_count": 741,
   "id": "a8ad928f-67ee-4ed7-93d5-9289b1c47d34",
   "metadata": {},
   "outputs": [
    {
     "data": {
      "text/plain": [
       "Brand\n",
       "Apple       206735\n",
       "Nokia        24540\n",
       "Oneplus    1047520\n",
       "Poco         20500\n",
       "Realme       30565\n",
       "Redmi       432920\n",
       "Samsung      20115\n",
       "Name: Number of Review, dtype: int32"
      ]
     },
     "execution_count": 741,
     "metadata": {},
     "output_type": "execute_result"
    }
   ],
   "source": [
    "#let's find out the review count per Brand\n",
    "review_count_per_brand = df.groupby(\"Brand\")[\"Number of Review\"].sum()\n",
    "review_count_per_brand"
   ]
  },
  {
   "cell_type": "code",
   "execution_count": 743,
   "id": "ef6e3e3e-ce43-4ce1-bef6-2e62dc62f5d3",
   "metadata": {},
   "outputs": [
    {
     "data": {
      "text/plain": [
       "Brand\n",
       "Apple        9200\n",
       "Nokia       15000\n",
       "Oneplus     93000\n",
       "Poco        40000\n",
       "Realme     110000\n",
       "Redmi      205000\n",
       "Samsung     40000\n",
       "Name: Previous Month Buyers Numeric, dtype: int64"
      ]
     },
     "execution_count": 743,
     "metadata": {},
     "output_type": "execute_result"
    }
   ],
   "source": [
    "#let's find out which brand is getting maximum number of sales as per Previous Month Buyers \n",
    "buyer_per_brand = df.groupby(\"Brand\")[\"Previous Month Buyers Numeric\"].sum()\n",
    "buyer_per_brand"
   ]
  },
  {
   "cell_type": "code",
   "execution_count": 745,
   "id": "a9441c7d-4f2d-4070-86fc-a59365da48cb",
   "metadata": {},
   "outputs": [
    {
     "name": "stdout",
     "output_type": "stream",
     "text": [
      "Correlation between Price of smartphone and Rating: 0.57\n"
     ]
    }
   ],
   "source": [
    "#let's answer our question whether rating is correalted to our price\n",
    "correlation = df['Price'].corr(df['Rating'])\n",
    "\n",
    "print(f\"Correlation between Price of smartphone and Rating: {correlation:.2f}\")"
   ]
  }
 ],
 "metadata": {
  "kernelspec": {
   "display_name": "Python 3 (ipykernel)",
   "language": "python",
   "name": "python3"
  },
  "language_info": {
   "codemirror_mode": {
    "name": "ipython",
    "version": 3
   },
   "file_extension": ".py",
   "mimetype": "text/x-python",
   "name": "python",
   "nbconvert_exporter": "python",
   "pygments_lexer": "ipython3",
   "version": "3.12.4"
  }
 },
 "nbformat": 4,
 "nbformat_minor": 5
}
